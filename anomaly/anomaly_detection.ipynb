{
 "cells": [
  {
   "cell_type": "code",
   "execution_count": 1,
   "metadata": {},
   "outputs": [],
   "source": [
    "from __future__ import division\n",
    "import itertools\n",
    "import warnings\n",
    "warnings.filterwarnings(\"ignore\")\n",
    "import matplotlib.pyplot as plt\n",
    "import matplotlib.dates as mdates\n",
    "import numpy as np\n",
    "import pandas as pd\n",
    "import math\n",
    "from sklearn import metrics\n",
    "from random import randint\n",
    "from matplotlib import style\n",
    "import seaborn as sns\n",
    "%matplotlib inline"
   ]
  },
  {
   "cell_type": "code",
   "execution_count": 2,
   "metadata": {},
   "outputs": [],
   "source": [
    "colnames=['ip', 'timestamp', 'request_method', 'status', 'size',\n",
    "          'destination', 'request_agent']\n",
    "df_orig = pd.read_csv('http://python.zach.lol/access.log',          \n",
    "                 engine='python',\n",
    "                 header=None,\n",
    "                 index_col=False,\n",
    "                 names=colnames,\n",
    "                 sep=r'\\s(?=(?:[^\"]*\"[^\"]*\")*[^\"]*$)(?![^\\[]*\\])',\n",
    "                 na_values='\"-\"',\n",
    "                 usecols=[0, 3, 4, 5, 6, 7, 8]\n",
    ")\n",
    "\n",
    "new = pd.DataFrame([[\"95.31.18.119\", \"[21/Apr/2019:10:02:41+0000]\", \n",
    "                     \"GET /api/v1/items/HTTP/1.1\", 200, 1153005, np.nan, \n",
    "                     \"python-requests/2.21.0\"],\n",
    "                    [\"95.31.16.121\", \"[17/Apr/2019:19:36:41+0000]\", \n",
    "                     \"GET /api/v1/sales?page=79/HTTP/1.1\", 301, 1005, np.nan, \n",
    "                     \"python-requests/2.21.0\"],\n",
    "                    [\"97.105.15.120\", \"[18/Apr/2019:19:42:41+0000]\", \n",
    "                     \"GET /api/v1/sales?page=79/HTTP/1.1\", 301, 2560, np.nan, \n",
    "                     \"python-requests/2.21.0\"],\n",
    "                    [\"97.105.19.58\", \"[19/Apr/2019:19:42:41+0000]\", \n",
    "                     \"GET /api/v1/sales?page=79/HTTP/1.1\", 200, 2056327, np.nan, \n",
    "                     \"python-requests/2.21.0\"]], columns=colnames)\n",
    "\n",
    "df = df_orig.append(new)"
   ]
  },
  {
   "cell_type": "markdown",
   "metadata": {},
   "source": [
    "Exercise 1:    \n",
    "\n",
    "Discrete data + probability\n",
    "\n",
    "Use basic probability to identify anomalous request methods. You will want to make sure the text is normalized in order to reduce the noise.\n",
    "\n",
    "Addendeum:   Use something other than request method."
   ]
  },
  {
   "cell_type": "code",
   "execution_count": 3,
   "metadata": {},
   "outputs": [],
   "source": [
    "df.timestamp = df.timestamp.str.replace(r'(\\[|\\])', '', regex=True)\n",
    "df.timestamp= pd.to_datetime(df.timestamp.str.replace(':', ' ', 1)) \n",
    "df = df.set_index('timestamp')"
   ]
  },
  {
   "cell_type": "code",
   "execution_count": 4,
   "metadata": {},
   "outputs": [],
   "source": [
    "for col in ['request_method', 'request_agent', 'destination']:\n",
    "    df[col] = df[col].str.replace('\"', '')\n",
    "df['request_method'] = df.request_method.str.replace(r'\\?page=[0-9]+', '', regex=True)\n",
    "df['size_mb'] = [n/1024/1024 for n in df['size']]"
   ]
  },
  {
   "cell_type": "code",
   "execution_count": 5,
   "metadata": {},
   "outputs": [],
   "source": [
    "ip_df = pd.DataFrame(df.ip.value_counts(dropna=False)).reset_index().\\\n",
    "                rename(index=str, columns={'index': 'ip', 'ip': 'ip_count'})\n",
    "ip_df2 = pd.DataFrame(df.ip.value_counts(dropna=False)/df.ip.count()).reset_index().\\\n",
    "                rename(index=str, columns={'index': 'ip', 'ip': 'ip_proba'})\n",
    "ip_df = ip_df.merge(ip_df2)"
   ]
  },
  {
   "cell_type": "code",
   "execution_count": 6,
   "metadata": {},
   "outputs": [
    {
     "data": {
      "text/html": [
       "<div>\n",
       "<style scoped>\n",
       "    .dataframe tbody tr th:only-of-type {\n",
       "        vertical-align: middle;\n",
       "    }\n",
       "\n",
       "    .dataframe tbody tr th {\n",
       "        vertical-align: top;\n",
       "    }\n",
       "\n",
       "    .dataframe thead th {\n",
       "        text-align: right;\n",
       "    }\n",
       "</style>\n",
       "<table border=\"1\" class=\"dataframe\">\n",
       "  <thead>\n",
       "    <tr style=\"text-align: right;\">\n",
       "      <th></th>\n",
       "      <th>ip</th>\n",
       "      <th>ip_count</th>\n",
       "      <th>ip_proba</th>\n",
       "    </tr>\n",
       "  </thead>\n",
       "  <tbody>\n",
       "    <tr>\n",
       "      <th>0</th>\n",
       "      <td>97.105.19.58</td>\n",
       "      <td>11999</td>\n",
       "      <td>0.858420</td>\n",
       "    </tr>\n",
       "    <tr>\n",
       "      <th>1</th>\n",
       "      <td>173.173.113.51</td>\n",
       "      <td>1059</td>\n",
       "      <td>0.075762</td>\n",
       "    </tr>\n",
       "    <tr>\n",
       "      <th>2</th>\n",
       "      <td>72.181.113.170</td>\n",
       "      <td>613</td>\n",
       "      <td>0.043855</td>\n",
       "    </tr>\n",
       "    <tr>\n",
       "      <th>3</th>\n",
       "      <td>72.181.105.81</td>\n",
       "      <td>246</td>\n",
       "      <td>0.017599</td>\n",
       "    </tr>\n",
       "    <tr>\n",
       "      <th>4</th>\n",
       "      <td>24.26.242.9</td>\n",
       "      <td>21</td>\n",
       "      <td>0.001502</td>\n",
       "    </tr>\n",
       "  </tbody>\n",
       "</table>\n",
       "</div>"
      ],
      "text/plain": [
       "               ip  ip_count  ip_proba\n",
       "0    97.105.19.58     11999  0.858420\n",
       "1  173.173.113.51      1059  0.075762\n",
       "2  72.181.113.170       613  0.043855\n",
       "3   72.181.105.81       246  0.017599\n",
       "4     24.26.242.9        21  0.001502"
      ]
     },
     "execution_count": 6,
     "metadata": {},
     "output_type": "execute_result"
    }
   ],
   "source": [
    "ip_df.head(5)"
   ]
  },
  {
   "cell_type": "markdown",
   "metadata": {},
   "source": [
    "should aggregate by size of data transfer for each IP"
   ]
  },
  {
   "cell_type": "markdown",
   "metadata": {},
   "source": [
    "need to aggregate by min and max for each IP address"
   ]
  },
  {
   "cell_type": "code",
   "execution_count": 7,
   "metadata": {},
   "outputs": [],
   "source": [
    "df_ts_size = df['size_mb'].resample('30T').median()"
   ]
  },
  {
   "cell_type": "code",
   "execution_count": 8,
   "metadata": {},
   "outputs": [
    {
     "data": {
      "text/plain": [
       "timestamp\n",
       "2019-04-16 19:30:00    0.486491\n",
       "2019-04-16 20:00:00    0.486506\n",
       "2019-04-16 20:30:00    0.486503\n",
       "2019-04-16 21:00:00    0.486506\n",
       "2019-04-16 21:30:00    0.486509\n",
       "Freq: 30T, Name: size_mb, dtype: float64"
      ]
     },
     "execution_count": 8,
     "metadata": {},
     "output_type": "execute_result"
    }
   ],
   "source": [
    "df_ts_size.head()"
   ]
  },
  {
   "cell_type": "code",
   "execution_count": 9,
   "metadata": {},
   "outputs": [],
   "source": [
    "idx = pd.date_range(df_ts_size.sort_index().index.min(),df_ts_size.sort_index().index.max(),freq='30min')"
   ]
  },
  {
   "cell_type": "code",
   "execution_count": 10,
   "metadata": {},
   "outputs": [],
   "source": [
    "df_ts_size = df_ts_size.reindex(idx, fill_value=0).fillna(value=0)"
   ]
  },
  {
   "cell_type": "code",
   "execution_count": 11,
   "metadata": {},
   "outputs": [],
   "source": [
    "start_date_train = df_ts_size.head(1).index[0]\n",
    "end_date_train = '2019-04-17 23:30:00'\n",
    "start_date_test = '2019-04-18 00:00:00'"
   ]
  },
  {
   "cell_type": "code",
   "execution_count": 12,
   "metadata": {},
   "outputs": [],
   "source": [
    "train = df_ts_size[:end_date_train]\n",
    "test = df_ts_size[start_date_test:]"
   ]
  },
  {
   "cell_type": "code",
   "execution_count": 13,
   "metadata": {},
   "outputs": [
    {
     "data": {
      "image/png": "[encoded data removed]",
      "text/plain": [
       "<Figure size 864x432 with 1 Axes>"
      ]
     },
     "metadata": {
      "needs_background": "light"
     },
     "output_type": "display_data"
    }
   ],
   "source": [
    "plt.figure(figsize=(12,6))\n",
    "plt.plot(train)\n",
    "plt.plot(test)\n",
    "plt.show()"
   ]
  },
  {
   "cell_type": "code",
   "execution_count": 14,
   "metadata": {},
   "outputs": [],
   "source": [
    "short_rolling = train.rolling(window=12).mean()"
   ]
  },
  {
   "cell_type": "code",
   "execution_count": 15,
   "metadata": {},
   "outputs": [],
   "source": [
    "long_rolling = train.rolling(window=24).mean()"
   ]
  },
  {
   "cell_type": "code",
   "execution_count": 16,
   "metadata": {},
   "outputs": [
    {
     "data": {
      "text/plain": [
       "Text(0, 0.5, 'Size (MB)')"
      ]
     },
     "execution_count": 16,
     "metadata": {},
     "output_type": "execute_result"
    },
    {
     "data": {
      "image/png": "[encoded data removed]",
      "text/plain": [
       "<Figure size 864x288 with 1 Axes>"
      ]
     },
     "metadata": {
      "needs_background": "light"
     },
     "output_type": "display_data"
    }
   ],
   "source": [
    "fig, ax = plt.subplots(figsize=(12,4))\n",
    "ax.plot(train.index, train, label='Size (MB)')\n",
    "ax.plot(short_rolling.index, short_rolling, label='6h simple moving average')\n",
    "ax.plot(long_rolling.index, long_rolling, label='12h simple moving average')\n",
    "\n",
    "ax.legend(loc='best')\n",
    "ax.set_ylabel('Size (MB)')"
   ]
  },
  {
   "cell_type": "code",
   "execution_count": 17,
   "metadata": {},
   "outputs": [
    {
     "data": {
      "text/plain": [
       "2019-04-17 07:00:00    0.136724\n",
       "2019-04-17 14:30:00    0.049563\n",
       "2019-04-17 13:30:00    0.069224\n",
       "2019-04-16 20:00:00    0.486494\n",
       "2019-04-16 19:30:00    0.486491\n",
       "2019-04-17 23:30:00    0.002489\n",
       "2019-04-17 08:30:00    0.082831\n",
       "2019-04-17 01:00:00    0.211428\n",
       "2019-04-17 18:30:00    0.013024\n",
       "2019-04-17 11:00:00    0.036068\n",
       "Name: size_mb, dtype: float64"
      ]
     },
     "execution_count": 17,
     "metadata": {},
     "output_type": "execute_result"
    }
   ],
   "source": [
    "ema_short = train.ewm(span=12, adjust=False).mean()\n",
    "ema_short.sample(10)"
   ]
  },
  {
   "cell_type": "code",
   "execution_count": 18,
   "metadata": {},
   "outputs": [
    {
     "data": {
      "text/plain": [
       "(57,)"
      ]
     },
     "execution_count": 18,
     "metadata": {},
     "output_type": "execute_result"
    }
   ],
   "source": [
    "ema_short.shape"
   ]
  },
  {
   "cell_type": "code",
   "execution_count": 19,
   "metadata": {},
   "outputs": [
    {
     "data": {
      "text/plain": [
       "2019-04-17 18:30:00    0.046755\n",
       "2019-04-17 17:00:00    0.060044\n",
       "2019-04-17 23:00:00    0.022119\n",
       "2019-04-16 20:00:00    0.486492\n",
       "2019-04-17 09:00:00    0.158086\n",
       "2019-04-17 03:30:00    0.344361\n",
       "2019-04-17 23:30:00    0.020349\n",
       "2019-04-17 02:00:00    0.346314\n",
       "2019-04-17 06:30:00    0.239858\n",
       "2019-04-17 19:00:00    0.043015\n",
       "Name: size_mb, dtype: float64"
      ]
     },
     "execution_count": 19,
     "metadata": {},
     "output_type": "execute_result"
    }
   ],
   "source": [
    "ema_long = train.ewm(span=24, adjust=False).mean()\n",
    "ema_long.sample(10)"
   ]
  },
  {
   "cell_type": "code",
   "execution_count": 20,
   "metadata": {},
   "outputs": [
    {
     "data": {
      "text/plain": [
       "Text(0, 0.5, 'Size (MB)')"
      ]
     },
     "execution_count": 20,
     "metadata": {},
     "output_type": "execute_result"
    },
    {
     "data": {
      "image/png": "[encoded data removed]",
      "text/plain": [
       "<Figure size 864x432 with 1 Axes>"
      ]
     },
     "metadata": {
      "needs_background": "light"
     },
     "output_type": "display_data"
    }
   ],
   "source": [
    "fig, ax = plt.subplots(figsize=(12,6))\n",
    "ax.plot(train.index, train, label='Size (MB)')\n",
    "\n",
    "ax.plot(short_rolling.index, short_rolling, label='6h simple moving average')\n",
    "ax.plot(long_rolling.index, long_rolling, label='12h simple moving average')\n",
    "ax.plot(ema_short.index, ema_short, label='6h em average')\n",
    "ax.plot(ema_long.index, ema_long, label='6h em average')\n",
    "\n",
    "ax.legend(loc='best')\n",
    "ax.set_ylabel('Size (MB)')"
   ]
  },
  {
   "cell_type": "code",
   "execution_count": 21,
   "metadata": {},
   "outputs": [
    {
     "data": {
      "text/plain": [
       "2019-04-18 00:00:00    0.020349\n",
       "2019-04-18 00:30:00    0.020349\n",
       "2019-04-18 01:00:00    0.020349\n",
       "2019-04-18 01:30:00    0.020349\n",
       "2019-04-18 02:00:00    0.020349\n",
       "Freq: 30T, Name: moving_avg_forecast, dtype: float64"
      ]
     },
     "execution_count": 21,
     "metadata": {},
     "output_type": "execute_result"
    }
   ],
   "source": [
    "yhat = pd.DataFrame(dict(actual=test))\n",
    "yhat['moving_avg_forecast'] = ema_long.iloc[-1]\n",
    "yhat['moving_avg_forecast'].head()"
   ]
  },
  {
   "cell_type": "code",
   "execution_count": 22,
   "metadata": {},
   "outputs": [
    {
     "data": {
      "text/html": [
       "<div>\n",
       "<style scoped>\n",
       "    .dataframe tbody tr th:only-of-type {\n",
       "        vertical-align: middle;\n",
       "    }\n",
       "\n",
       "    .dataframe tbody tr th {\n",
       "        vertical-align: top;\n",
       "    }\n",
       "\n",
       "    .dataframe thead th {\n",
       "        text-align: right;\n",
       "    }\n",
       "</style>\n",
       "<table border=\"1\" class=\"dataframe\">\n",
       "  <thead>\n",
       "    <tr style=\"text-align: right;\">\n",
       "      <th></th>\n",
       "      <th>actual</th>\n",
       "      <th>moving_avg_forecast</th>\n",
       "      <th>error</th>\n",
       "    </tr>\n",
       "  </thead>\n",
       "  <tbody>\n",
       "    <tr>\n",
       "      <th>2019-04-18 00:00:00</th>\n",
       "      <td>0.0</td>\n",
       "      <td>0.020349</td>\n",
       "      <td>0.020349</td>\n",
       "    </tr>\n",
       "    <tr>\n",
       "      <th>2019-04-18 00:30:00</th>\n",
       "      <td>0.0</td>\n",
       "      <td>0.020349</td>\n",
       "      <td>0.020349</td>\n",
       "    </tr>\n",
       "    <tr>\n",
       "      <th>2019-04-18 01:00:00</th>\n",
       "      <td>0.0</td>\n",
       "      <td>0.020349</td>\n",
       "      <td>0.020349</td>\n",
       "    </tr>\n",
       "    <tr>\n",
       "      <th>2019-04-18 01:30:00</th>\n",
       "      <td>0.0</td>\n",
       "      <td>0.020349</td>\n",
       "      <td>0.020349</td>\n",
       "    </tr>\n",
       "    <tr>\n",
       "      <th>2019-04-18 02:00:00</th>\n",
       "      <td>0.0</td>\n",
       "      <td>0.020349</td>\n",
       "      <td>0.020349</td>\n",
       "    </tr>\n",
       "  </tbody>\n",
       "</table>\n",
       "</div>"
      ],
      "text/plain": [
       "                     actual  moving_avg_forecast     error\n",
       "2019-04-18 00:00:00     0.0             0.020349  0.020349\n",
       "2019-04-18 00:30:00     0.0             0.020349  0.020349\n",
       "2019-04-18 01:00:00     0.0             0.020349  0.020349\n",
       "2019-04-18 01:30:00     0.0             0.020349  0.020349\n",
       "2019-04-18 02:00:00     0.0             0.020349  0.020349"
      ]
     },
     "execution_count": 22,
     "metadata": {},
     "output_type": "execute_result"
    }
   ],
   "source": [
    "yhat['error'] = abs(yhat.actual - yhat.moving_avg_forecast)\n",
    "yhat.head()"
   ]
  },
  {
   "cell_type": "code",
   "execution_count": 23,
   "metadata": {},
   "outputs": [
    {
     "data": {
      "text/html": [
       "<div>\n",
       "<style scoped>\n",
       "    .dataframe tbody tr th:only-of-type {\n",
       "        vertical-align: middle;\n",
       "    }\n",
       "\n",
       "    .dataframe tbody tr th {\n",
       "        vertical-align: top;\n",
       "    }\n",
       "\n",
       "    .dataframe thead th {\n",
       "        text-align: right;\n",
       "    }\n",
       "</style>\n",
       "<table border=\"1\" class=\"dataframe\">\n",
       "  <thead>\n",
       "    <tr style=\"text-align: right;\">\n",
       "      <th></th>\n",
       "      <th>actual</th>\n",
       "      <th>moving_avg_forecast</th>\n",
       "      <th>error</th>\n",
       "    </tr>\n",
       "  </thead>\n",
       "  <tbody>\n",
       "    <tr>\n",
       "      <th>count</th>\n",
       "      <td>165.000000</td>\n",
       "      <td>1.650000e+02</td>\n",
       "      <td>165.000000</td>\n",
       "    </tr>\n",
       "    <tr>\n",
       "      <th>mean</th>\n",
       "      <td>0.018564</td>\n",
       "      <td>2.034939e-02</td>\n",
       "      <td>0.038391</td>\n",
       "    </tr>\n",
       "    <tr>\n",
       "      <th>std</th>\n",
       "      <td>0.174573</td>\n",
       "      <td>5.220013e-17</td>\n",
       "      <td>0.170282</td>\n",
       "    </tr>\n",
       "    <tr>\n",
       "      <th>min</th>\n",
       "      <td>0.000000</td>\n",
       "      <td>2.034939e-02</td>\n",
       "      <td>0.017908</td>\n",
       "    </tr>\n",
       "    <tr>\n",
       "      <th>25%</th>\n",
       "      <td>0.000000</td>\n",
       "      <td>2.034939e-02</td>\n",
       "      <td>0.020349</td>\n",
       "    </tr>\n",
       "    <tr>\n",
       "      <th>50%</th>\n",
       "      <td>0.000000</td>\n",
       "      <td>2.034939e-02</td>\n",
       "      <td>0.020349</td>\n",
       "    </tr>\n",
       "    <tr>\n",
       "      <th>75%</th>\n",
       "      <td>0.000000</td>\n",
       "      <td>2.034939e-02</td>\n",
       "      <td>0.020349</td>\n",
       "    </tr>\n",
       "    <tr>\n",
       "      <th>max</th>\n",
       "      <td>1.961066</td>\n",
       "      <td>2.034939e-02</td>\n",
       "      <td>1.940717</td>\n",
       "    </tr>\n",
       "  </tbody>\n",
       "</table>\n",
       "</div>"
      ],
      "text/plain": [
       "           actual  moving_avg_forecast       error\n",
       "count  165.000000         1.650000e+02  165.000000\n",
       "mean     0.018564         2.034939e-02    0.038391\n",
       "std      0.174573         5.220013e-17    0.170282\n",
       "min      0.000000         2.034939e-02    0.017908\n",
       "25%      0.000000         2.034939e-02    0.020349\n",
       "50%      0.000000         2.034939e-02    0.020349\n",
       "75%      0.000000         2.034939e-02    0.020349\n",
       "max      1.961066         2.034939e-02    1.940717"
      ]
     },
     "execution_count": 23,
     "metadata": {},
     "output_type": "execute_result"
    }
   ],
   "source": [
    "q1 = yhat.error.describe().loc['25%']\n",
    "q3 = yhat.error.describe().loc['75%']\n",
    "yhat.describe()"
   ]
  },
  {
   "cell_type": "code",
   "execution_count": 24,
   "metadata": {},
   "outputs": [],
   "source": [
    "\n",
    "span = 24\n",
    "ema_long = train.ewm(span=span, adjust=False).mean()\n",
    "midband = ema_long[-1]\n",
    "ub = midband + ema_long[-24:-1].std()*3\n",
    "lb = midband - ema_long[-24:-1].std()*3"
   ]
  },
  {
   "cell_type": "code",
   "execution_count": 25,
   "metadata": {},
   "outputs": [
    {
     "data": {
      "text/plain": [
       "(0.11662591274966773, -0.07592712496220251)"
      ]
     },
     "execution_count": 25,
     "metadata": {},
     "output_type": "execute_result"
    }
   ],
   "source": [
    "ub,  lb"
   ]
  },
  {
   "cell_type": "markdown",
   "metadata": {},
   "source": [
    "calculate percent_b,   "
   ]
  },
  {
   "cell_type": "code",
   "execution_count": 26,
   "metadata": {},
   "outputs": [],
   "source": [
    "yhat['pct_b'] = (yhat.actual-lb/ (ub-lb))"
   ]
  },
  {
   "cell_type": "code",
   "execution_count": 27,
   "metadata": {},
   "outputs": [
    {
     "data": {
      "text/html": [
       "<div>\n",
       "<style scoped>\n",
       "    .dataframe tbody tr th:only-of-type {\n",
       "        vertical-align: middle;\n",
       "    }\n",
       "\n",
       "    .dataframe tbody tr th {\n",
       "        vertical-align: top;\n",
       "    }\n",
       "\n",
       "    .dataframe thead th {\n",
       "        text-align: right;\n",
       "    }\n",
       "</style>\n",
       "<table border=\"1\" class=\"dataframe\">\n",
       "  <thead>\n",
       "    <tr style=\"text-align: right;\">\n",
       "      <th></th>\n",
       "      <th>actual</th>\n",
       "      <th>moving_avg_forecast</th>\n",
       "      <th>error</th>\n",
       "      <th>pct_b</th>\n",
       "    </tr>\n",
       "  </thead>\n",
       "  <tbody>\n",
       "    <tr>\n",
       "      <th>2019-04-19 19:30:00</th>\n",
       "      <td>1.961066</td>\n",
       "      <td>0.020349</td>\n",
       "      <td>1.940717</td>\n",
       "      <td>2.355384</td>\n",
       "    </tr>\n",
       "    <tr>\n",
       "      <th>2019-04-21 10:00:00</th>\n",
       "      <td>1.099591</td>\n",
       "      <td>0.020349</td>\n",
       "      <td>1.079242</td>\n",
       "      <td>1.493909</td>\n",
       "    </tr>\n",
       "  </tbody>\n",
       "</table>\n",
       "</div>"
      ],
      "text/plain": [
       "                       actual  moving_avg_forecast     error     pct_b\n",
       "2019-04-19 19:30:00  1.961066             0.020349  1.940717  2.355384\n",
       "2019-04-21 10:00:00  1.099591             0.020349  1.079242  1.493909"
      ]
     },
     "execution_count": 27,
     "metadata": {},
     "output_type": "execute_result"
    }
   ],
   "source": [
    "# print anomalies\n",
    "yhat[yhat.pct_b > 1]"
   ]
  },
  {
   "cell_type": "markdown",
   "metadata": {},
   "source": [
    "Exercise 2\n",
    "\n",
    "Time series + EMA\n",
    "\n",
    "Pick a specific cohort\n",
    "Discover users who are accessing our curriculum pages way beyond the end of their codeup time. What would the dataframe look like? Use time series method for detecting anomalies, like exponential moving average with %b.\n"
   ]
  },
  {
   "cell_type": "code",
   "execution_count": 48,
   "metadata": {},
   "outputs": [],
   "source": [
    "colnames=['date', 'timestamp', 'webpage', 'user_id', 'cohort',\n",
    "          'ip_addr']\n",
    "df = pd.read_csv('anonymized-curriculum-access.txt',          \n",
    "                 engine='python',\n",
    "                 index_col='date',\n",
    "#                 skiprows=[0],            \n",
    "                 header=None,\n",
    "                 names=colnames,\n",
    "                 sep=r'\\s(?=(?:[^\"]*\"[^\"]*\")*[^\"]*$)(?![^\\[]*\\])',\n",
    "                 na_values='\"-\"',\n",
    "                 usecols=[0, 1, 2, 3, 4, 5]\n",
    ")"
   ]
  },
  {
   "cell_type": "markdown",
   "metadata": {},
   "source": [
    "make the staff cohort (currently Nan) be Zero\n",
    "create a date time index (combine date time stamp)"
   ]
  },
  {
   "cell_type": "code",
   "execution_count": 49,
   "metadata": {},
   "outputs": [
    {
     "data": {
      "text/html": [
       "<div>\n",
       "<style scoped>\n",
       "    .dataframe tbody tr th:only-of-type {\n",
       "        vertical-align: middle;\n",
       "    }\n",
       "\n",
       "    .dataframe tbody tr th {\n",
       "        vertical-align: top;\n",
       "    }\n",
       "\n",
       "    .dataframe thead th {\n",
       "        text-align: right;\n",
       "    }\n",
       "</style>\n",
       "<table border=\"1\" class=\"dataframe\">\n",
       "  <thead>\n",
       "    <tr style=\"text-align: right;\">\n",
       "      <th></th>\n",
       "      <th>timestamp</th>\n",
       "      <th>webpage</th>\n",
       "      <th>user_id</th>\n",
       "      <th>cohort</th>\n",
       "      <th>ip_addr</th>\n",
       "    </tr>\n",
       "    <tr>\n",
       "      <th>date</th>\n",
       "      <th></th>\n",
       "      <th></th>\n",
       "      <th></th>\n",
       "      <th></th>\n",
       "      <th></th>\n",
       "    </tr>\n",
       "  </thead>\n",
       "  <tbody>\n",
       "    <tr>\n",
       "      <th>2018-04-05</th>\n",
       "      <td>13:58:41</td>\n",
       "      <td>java-iii/finish-the-adlister</td>\n",
       "      <td>35</td>\n",
       "      <td>22.0</td>\n",
       "      <td>97.105.19.61</td>\n",
       "    </tr>\n",
       "    <tr>\n",
       "      <th>2018-10-20</th>\n",
       "      <td>19:12:11</td>\n",
       "      <td>spring/setup</td>\n",
       "      <td>195</td>\n",
       "      <td>24.0</td>\n",
       "      <td>104.53.202.214</td>\n",
       "    </tr>\n",
       "    <tr>\n",
       "      <th>2018-12-19</th>\n",
       "      <td>16:34:41</td>\n",
       "      <td>javascript-i/bom-and-dom/dom-events</td>\n",
       "      <td>261</td>\n",
       "      <td>26.0</td>\n",
       "      <td>97.105.19.58</td>\n",
       "    </tr>\n",
       "    <tr>\n",
       "      <th>2018-08-20</th>\n",
       "      <td>20:22:20</td>\n",
       "      <td>content/javascript/conditionals.html</td>\n",
       "      <td>80</td>\n",
       "      <td>14.0</td>\n",
       "      <td>136.50.29.193</td>\n",
       "    </tr>\n",
       "    <tr>\n",
       "      <th>2018-06-04</th>\n",
       "      <td>12:20:11</td>\n",
       "      <td>java-i/console-io</td>\n",
       "      <td>25</td>\n",
       "      <td>23.0</td>\n",
       "      <td>97.105.19.61</td>\n",
       "    </tr>\n",
       "  </tbody>\n",
       "</table>\n",
       "</div>"
      ],
      "text/plain": [
       "           timestamp                               webpage  user_id  cohort  \\\n",
       "date                                                                          \n",
       "2018-04-05  13:58:41          java-iii/finish-the-adlister       35    22.0   \n",
       "2018-10-20  19:12:11                          spring/setup      195    24.0   \n",
       "2018-12-19  16:34:41   javascript-i/bom-and-dom/dom-events      261    26.0   \n",
       "2018-08-20  20:22:20  content/javascript/conditionals.html       80    14.0   \n",
       "2018-06-04  12:20:11                     java-i/console-io       25    23.0   \n",
       "\n",
       "                   ip_addr  \n",
       "date                        \n",
       "2018-04-05    97.105.19.61  \n",
       "2018-10-20  104.53.202.214  \n",
       "2018-12-19    97.105.19.58  \n",
       "2018-08-20   136.50.29.193  \n",
       "2018-06-04    97.105.19.61  "
      ]
     },
     "execution_count": 49,
     "metadata": {},
     "output_type": "execute_result"
    }
   ],
   "source": [
    "df.sample(5)"
   ]
  },
  {
   "cell_type": "code",
   "execution_count": 50,
   "metadata": {},
   "outputs": [],
   "source": [
    "df.reset_index(inplace=True)"
   ]
  },
  {
   "cell_type": "markdown",
   "metadata": {},
   "source": [
    "Build a user_df dataframe that has the earliest starting day and most recent ending day of web access,  use those dates to get the duration of time hitting on the website - then merge it back into the df dataframe\n",
    "Have to reset the index first (because 'date\" is the index and is not accessible otherwise)\n",
    "\n",
    "Aggregate on the minimum date and maximum date for each user\n"
   ]
  },
  {
   "cell_type": "code",
   "execution_count": 51,
   "metadata": {},
   "outputs": [],
   "source": [
    "user_df = df[['user_id','date']].copy()\n",
    "user_df = user_df.groupby('user_id').agg(['min','max'])"
   ]
  },
  {
   "cell_type": "code",
   "execution_count": 52,
   "metadata": {},
   "outputs": [],
   "source": [
    "# The min data and max date will be on split levels (use user_df.head() to see this,   \n",
    "# you can't directly manipulate those columns - so you have to \"droplevel\".  \n",
    "# Once you do that you can access the columns as min and max.  \n",
    "user_df.columns = user_df.columns.droplevel()"
   ]
  },
  {
   "cell_type": "code",
   "execution_count": 53,
   "metadata": {},
   "outputs": [],
   "source": [
    "# after using the agg method,  the results will be strings, not dates,  so convert to datetime,\n",
    "#  then subtract and create the new column called duration, drop min and max because they are redundant\n",
    "\n",
    "user_df['startdate'] = pd.to_datetime(user_df['min'], format='%Y-%m-%d')\n",
    "user_df['enddate'] = pd.to_datetime(user_df['max'], format='%Y-%m-%d')\n",
    "user_df['duration'] = user_df.enddate - user_df.startdate\n",
    "user_df.drop(['min','max'], axis=1, inplace=True)\n"
   ]
  },
  {
   "cell_type": "code",
   "execution_count": 54,
   "metadata": {},
   "outputs": [],
   "source": [
    "logins_df = df[['user_id','date','timestamp','webpage']].copy()\n",
    "logins_df = logins_df.groupby('user_id').agg({\"timestamp\": \"count\"})\n",
    "logins_df = logins_df.rename(columns={'timestamp': 'logins'})\n"
   ]
  },
  {
   "cell_type": "code",
   "execution_count": 112,
   "metadata": {},
   "outputs": [],
   "source": [
    "day_df = df[['date','cohort','user_id']].copy()\n"
   ]
  },
  {
   "cell_type": "code",
   "execution_count": 115,
   "metadata": {},
   "outputs": [
    {
     "data": {
      "text/html": [
       "<div>\n",
       "<style scoped>\n",
       "    .dataframe tbody tr th:only-of-type {\n",
       "        vertical-align: middle;\n",
       "    }\n",
       "\n",
       "    .dataframe tbody tr th {\n",
       "        vertical-align: top;\n",
       "    }\n",
       "\n",
       "    .dataframe thead th {\n",
       "        text-align: right;\n",
       "    }\n",
       "</style>\n",
       "<table border=\"1\" class=\"dataframe\">\n",
       "  <thead>\n",
       "    <tr style=\"text-align: right;\">\n",
       "      <th></th>\n",
       "      <th>date</th>\n",
       "      <th>cohort</th>\n",
       "      <th>user_id</th>\n",
       "    </tr>\n",
       "  </thead>\n",
       "  <tbody>\n",
       "    <tr>\n",
       "      <th>0</th>\n",
       "      <td>2018-01-26</td>\n",
       "      <td>8.0</td>\n",
       "      <td>1</td>\n",
       "    </tr>\n",
       "    <tr>\n",
       "      <th>1</th>\n",
       "      <td>2018-01-26</td>\n",
       "      <td>8.0</td>\n",
       "      <td>1</td>\n",
       "    </tr>\n",
       "    <tr>\n",
       "      <th>2</th>\n",
       "      <td>2018-01-26</td>\n",
       "      <td>8.0</td>\n",
       "      <td>1</td>\n",
       "    </tr>\n",
       "    <tr>\n",
       "      <th>3</th>\n",
       "      <td>2018-01-26</td>\n",
       "      <td>8.0</td>\n",
       "      <td>1</td>\n",
       "    </tr>\n",
       "    <tr>\n",
       "      <th>4</th>\n",
       "      <td>2018-01-26</td>\n",
       "      <td>22.0</td>\n",
       "      <td>2</td>\n",
       "    </tr>\n",
       "  </tbody>\n",
       "</table>\n",
       "</div>"
      ],
      "text/plain": [
       "         date  cohort  user_id\n",
       "0  2018-01-26     8.0        1\n",
       "1  2018-01-26     8.0        1\n",
       "2  2018-01-26     8.0        1\n",
       "3  2018-01-26     8.0        1\n",
       "4  2018-01-26    22.0        2"
      ]
     },
     "execution_count": 115,
     "metadata": {},
     "output_type": "execute_result"
    }
   ],
   "source": [
    "day_df.head()"
   ]
  },
  {
   "cell_type": "code",
   "execution_count": 120,
   "metadata": {},
   "outputs": [
    {
     "data": {
      "text/html": [
       "<div>\n",
       "<style scoped>\n",
       "    .dataframe tbody tr th:only-of-type {\n",
       "        vertical-align: middle;\n",
       "    }\n",
       "\n",
       "    .dataframe tbody tr th {\n",
       "        vertical-align: top;\n",
       "    }\n",
       "\n",
       "    .dataframe thead th {\n",
       "        text-align: right;\n",
       "    }\n",
       "</style>\n",
       "<table border=\"1\" class=\"dataframe\">\n",
       "  <thead>\n",
       "    <tr style=\"text-align: right;\">\n",
       "      <th></th>\n",
       "      <th></th>\n",
       "      <th>count</th>\n",
       "    </tr>\n",
       "    <tr>\n",
       "      <th>date</th>\n",
       "      <th>user_id</th>\n",
       "      <th></th>\n",
       "    </tr>\n",
       "  </thead>\n",
       "  <tbody>\n",
       "    <tr>\n",
       "      <th rowspan=\"30\" valign=\"top\">2018-01-26</th>\n",
       "      <th>1</th>\n",
       "      <td>7</td>\n",
       "    </tr>\n",
       "    <tr>\n",
       "      <th>2</th>\n",
       "      <td>17</td>\n",
       "    </tr>\n",
       "    <tr>\n",
       "      <th>3</th>\n",
       "      <td>22</td>\n",
       "    </tr>\n",
       "    <tr>\n",
       "      <th>4</th>\n",
       "      <td>14</td>\n",
       "    </tr>\n",
       "    <tr>\n",
       "      <th>5</th>\n",
       "      <td>14</td>\n",
       "    </tr>\n",
       "    <tr>\n",
       "      <th>6</th>\n",
       "      <td>21</td>\n",
       "    </tr>\n",
       "    <tr>\n",
       "      <th>7</th>\n",
       "      <td>35</td>\n",
       "    </tr>\n",
       "    <tr>\n",
       "      <th>8</th>\n",
       "      <td>2</td>\n",
       "    </tr>\n",
       "    <tr>\n",
       "      <th>9</th>\n",
       "      <td>2</td>\n",
       "    </tr>\n",
       "    <tr>\n",
       "      <th>10</th>\n",
       "      <td>31</td>\n",
       "    </tr>\n",
       "    <tr>\n",
       "      <th>11</th>\n",
       "      <td>19</td>\n",
       "    </tr>\n",
       "    <tr>\n",
       "      <th>12</th>\n",
       "      <td>10</td>\n",
       "    </tr>\n",
       "    <tr>\n",
       "      <th>13</th>\n",
       "      <td>15</td>\n",
       "    </tr>\n",
       "    <tr>\n",
       "      <th>14</th>\n",
       "      <td>3</td>\n",
       "    </tr>\n",
       "    <tr>\n",
       "      <th>15</th>\n",
       "      <td>32</td>\n",
       "    </tr>\n",
       "    <tr>\n",
       "      <th>16</th>\n",
       "      <td>7</td>\n",
       "    </tr>\n",
       "    <tr>\n",
       "      <th>17</th>\n",
       "      <td>6</td>\n",
       "    </tr>\n",
       "    <tr>\n",
       "      <th>18</th>\n",
       "      <td>15</td>\n",
       "    </tr>\n",
       "    <tr>\n",
       "      <th>19</th>\n",
       "      <td>67</td>\n",
       "    </tr>\n",
       "    <tr>\n",
       "      <th>20</th>\n",
       "      <td>8</td>\n",
       "    </tr>\n",
       "    <tr>\n",
       "      <th>21</th>\n",
       "      <td>2</td>\n",
       "    </tr>\n",
       "    <tr>\n",
       "      <th>22</th>\n",
       "      <td>3</td>\n",
       "    </tr>\n",
       "    <tr>\n",
       "      <th>23</th>\n",
       "      <td>12</td>\n",
       "    </tr>\n",
       "    <tr>\n",
       "      <th>24</th>\n",
       "      <td>2</td>\n",
       "    </tr>\n",
       "    <tr>\n",
       "      <th>25</th>\n",
       "      <td>5</td>\n",
       "    </tr>\n",
       "    <tr>\n",
       "      <th>26</th>\n",
       "      <td>3</td>\n",
       "    </tr>\n",
       "    <tr>\n",
       "      <th>27</th>\n",
       "      <td>9</td>\n",
       "    </tr>\n",
       "    <tr>\n",
       "      <th>28</th>\n",
       "      <td>14</td>\n",
       "    </tr>\n",
       "    <tr>\n",
       "      <th>29</th>\n",
       "      <td>5</td>\n",
       "    </tr>\n",
       "    <tr>\n",
       "      <th>30</th>\n",
       "      <td>15</td>\n",
       "    </tr>\n",
       "    <tr>\n",
       "      <th>...</th>\n",
       "      <th>...</th>\n",
       "      <td>...</td>\n",
       "    </tr>\n",
       "    <tr>\n",
       "      <th rowspan=\"30\" valign=\"top\">2019-04-02</th>\n",
       "      <th>361</th>\n",
       "      <td>1</td>\n",
       "    </tr>\n",
       "    <tr>\n",
       "      <th>362</th>\n",
       "      <td>1</td>\n",
       "    </tr>\n",
       "    <tr>\n",
       "      <th>363</th>\n",
       "      <td>1</td>\n",
       "    </tr>\n",
       "    <tr>\n",
       "      <th>364</th>\n",
       "      <td>2</td>\n",
       "    </tr>\n",
       "    <tr>\n",
       "      <th>366</th>\n",
       "      <td>1</td>\n",
       "    </tr>\n",
       "    <tr>\n",
       "      <th>367</th>\n",
       "      <td>3</td>\n",
       "    </tr>\n",
       "    <tr>\n",
       "      <th>368</th>\n",
       "      <td>3</td>\n",
       "    </tr>\n",
       "    <tr>\n",
       "      <th>369</th>\n",
       "      <td>1</td>\n",
       "    </tr>\n",
       "    <tr>\n",
       "      <th>372</th>\n",
       "      <td>1</td>\n",
       "    </tr>\n",
       "    <tr>\n",
       "      <th>373</th>\n",
       "      <td>9</td>\n",
       "    </tr>\n",
       "    <tr>\n",
       "      <th>374</th>\n",
       "      <td>6</td>\n",
       "    </tr>\n",
       "    <tr>\n",
       "      <th>375</th>\n",
       "      <td>11</td>\n",
       "    </tr>\n",
       "    <tr>\n",
       "      <th>376</th>\n",
       "      <td>9</td>\n",
       "    </tr>\n",
       "    <tr>\n",
       "      <th>377</th>\n",
       "      <td>11</td>\n",
       "    </tr>\n",
       "    <tr>\n",
       "      <th>379</th>\n",
       "      <td>16</td>\n",
       "    </tr>\n",
       "    <tr>\n",
       "      <th>380</th>\n",
       "      <td>12</td>\n",
       "    </tr>\n",
       "    <tr>\n",
       "      <th>381</th>\n",
       "      <td>5</td>\n",
       "    </tr>\n",
       "    <tr>\n",
       "      <th>382</th>\n",
       "      <td>8</td>\n",
       "    </tr>\n",
       "    <tr>\n",
       "      <th>383</th>\n",
       "      <td>9</td>\n",
       "    </tr>\n",
       "    <tr>\n",
       "      <th>384</th>\n",
       "      <td>9</td>\n",
       "    </tr>\n",
       "    <tr>\n",
       "      <th>385</th>\n",
       "      <td>3</td>\n",
       "    </tr>\n",
       "    <tr>\n",
       "      <th>386</th>\n",
       "      <td>7</td>\n",
       "    </tr>\n",
       "    <tr>\n",
       "      <th>387</th>\n",
       "      <td>10</td>\n",
       "    </tr>\n",
       "    <tr>\n",
       "      <th>389</th>\n",
       "      <td>6</td>\n",
       "    </tr>\n",
       "    <tr>\n",
       "      <th>390</th>\n",
       "      <td>6</td>\n",
       "    </tr>\n",
       "    <tr>\n",
       "      <th>392</th>\n",
       "      <td>10</td>\n",
       "    </tr>\n",
       "    <tr>\n",
       "      <th>393</th>\n",
       "      <td>26</td>\n",
       "    </tr>\n",
       "    <tr>\n",
       "      <th>394</th>\n",
       "      <td>5</td>\n",
       "    </tr>\n",
       "    <tr>\n",
       "      <th>395</th>\n",
       "      <td>28</td>\n",
       "    </tr>\n",
       "    <tr>\n",
       "      <th>397</th>\n",
       "      <td>1</td>\n",
       "    </tr>\n",
       "  </tbody>\n",
       "</table>\n",
       "<p>18485 rows × 1 columns</p>\n",
       "</div>"
      ],
      "text/plain": [
       "                    count\n",
       "date       user_id       \n",
       "2018-01-26 1            7\n",
       "           2           17\n",
       "           3           22\n",
       "           4           14\n",
       "           5           14\n",
       "           6           21\n",
       "           7           35\n",
       "           8            2\n",
       "           9            2\n",
       "           10          31\n",
       "           11          19\n",
       "           12          10\n",
       "           13          15\n",
       "           14           3\n",
       "           15          32\n",
       "           16           7\n",
       "           17           6\n",
       "           18          15\n",
       "           19          67\n",
       "           20           8\n",
       "           21           2\n",
       "           22           3\n",
       "           23          12\n",
       "           24           2\n",
       "           25           5\n",
       "           26           3\n",
       "           27           9\n",
       "           28          14\n",
       "           29           5\n",
       "           30          15\n",
       "...                   ...\n",
       "2019-04-02 361          1\n",
       "           362          1\n",
       "           363          1\n",
       "           364          2\n",
       "           366          1\n",
       "           367          3\n",
       "           368          3\n",
       "           369          1\n",
       "           372          1\n",
       "           373          9\n",
       "           374          6\n",
       "           375         11\n",
       "           376          9\n",
       "           377         11\n",
       "           379         16\n",
       "           380         12\n",
       "           381          5\n",
       "           382          8\n",
       "           383          9\n",
       "           384          9\n",
       "           385          3\n",
       "           386          7\n",
       "           387         10\n",
       "           389          6\n",
       "           390          6\n",
       "           392         10\n",
       "           393         26\n",
       "           394          5\n",
       "           395         28\n",
       "           397          1\n",
       "\n",
       "[18485 rows x 1 columns]"
      ]
     },
     "execution_count": 120,
     "metadata": {},
     "output_type": "execute_result"
    }
   ],
   "source": [
    "day_df[['cohort' == 7 ]].groupby(['date','user_id']).agg({'user_id': 'count'}).rename(columns={'user_id': 'count'})"
   ]
  },
  {
   "cell_type": "code",
   "execution_count": 118,
   "metadata": {},
   "outputs": [
    {
     "name": "stdout",
     "output_type": "stream",
     "text": [
      "<class 'pandas.core.frame.DataFrame'>\n",
      "RangeIndex: 233528 entries, 0 to 233527\n",
      "Data columns (total 3 columns):\n",
      "date       233528 non-null object\n",
      "cohort     219070 non-null float64\n",
      "user_id    233528 non-null int64\n",
      "dtypes: float64(1), int64(1), object(1)\n",
      "memory usage: 5.3+ MB\n"
     ]
    }
   ],
   "source": [
    "day_df.info()"
   ]
  },
  {
   "cell_type": "code",
   "execution_count": 119,
   "metadata": {},
   "outputs": [
    {
     "data": {
      "text/html": [
       "<div>\n",
       "<style scoped>\n",
       "    .dataframe tbody tr th:only-of-type {\n",
       "        vertical-align: middle;\n",
       "    }\n",
       "\n",
       "    .dataframe tbody tr th {\n",
       "        vertical-align: top;\n",
       "    }\n",
       "\n",
       "    .dataframe thead th {\n",
       "        text-align: right;\n",
       "    }\n",
       "</style>\n",
       "<table border=\"1\" class=\"dataframe\">\n",
       "  <thead>\n",
       "    <tr style=\"text-align: right;\">\n",
       "      <th></th>\n",
       "      <th>date</th>\n",
       "      <th>cohort</th>\n",
       "      <th>user_id</th>\n",
       "    </tr>\n",
       "  </thead>\n",
       "  <tbody>\n",
       "    <tr>\n",
       "      <th>0</th>\n",
       "      <td>2018-01-26</td>\n",
       "      <td>8.0</td>\n",
       "      <td>1</td>\n",
       "    </tr>\n",
       "    <tr>\n",
       "      <th>1</th>\n",
       "      <td>2018-01-26</td>\n",
       "      <td>8.0</td>\n",
       "      <td>1</td>\n",
       "    </tr>\n",
       "    <tr>\n",
       "      <th>2</th>\n",
       "      <td>2018-01-26</td>\n",
       "      <td>8.0</td>\n",
       "      <td>1</td>\n",
       "    </tr>\n",
       "    <tr>\n",
       "      <th>3</th>\n",
       "      <td>2018-01-26</td>\n",
       "      <td>8.0</td>\n",
       "      <td>1</td>\n",
       "    </tr>\n",
       "    <tr>\n",
       "      <th>4</th>\n",
       "      <td>2018-01-26</td>\n",
       "      <td>22.0</td>\n",
       "      <td>2</td>\n",
       "    </tr>\n",
       "  </tbody>\n",
       "</table>\n",
       "</div>"
      ],
      "text/plain": [
       "         date  cohort  user_id\n",
       "0  2018-01-26     8.0        1\n",
       "1  2018-01-26     8.0        1\n",
       "2  2018-01-26     8.0        1\n",
       "3  2018-01-26     8.0        1\n",
       "4  2018-01-26    22.0        2"
      ]
     },
     "execution_count": 119,
     "metadata": {},
     "output_type": "execute_result"
    }
   ],
   "source": [
    "day_df.head()"
   ]
  },
  {
   "cell_type": "code",
   "execution_count": 46,
   "metadata": {},
   "outputs": [
    {
     "data": {
      "text/html": [
       "<div>\n",
       "<style scoped>\n",
       "    .dataframe tbody tr th:only-of-type {\n",
       "        vertical-align: middle;\n",
       "    }\n",
       "\n",
       "    .dataframe tbody tr th {\n",
       "        vertical-align: top;\n",
       "    }\n",
       "\n",
       "    .dataframe thead th {\n",
       "        text-align: right;\n",
       "    }\n",
       "</style>\n",
       "<table border=\"1\" class=\"dataframe\">\n",
       "  <thead>\n",
       "    <tr style=\"text-align: right;\">\n",
       "      <th></th>\n",
       "      <th>logins</th>\n",
       "    </tr>\n",
       "    <tr>\n",
       "      <th>user_id</th>\n",
       "      <th></th>\n",
       "    </tr>\n",
       "  </thead>\n",
       "  <tbody>\n",
       "    <tr>\n",
       "      <th>1</th>\n",
       "      <td>2639</td>\n",
       "    </tr>\n",
       "    <tr>\n",
       "      <th>2</th>\n",
       "      <td>1541</td>\n",
       "    </tr>\n",
       "    <tr>\n",
       "      <th>3</th>\n",
       "      <td>1560</td>\n",
       "    </tr>\n",
       "    <tr>\n",
       "      <th>4</th>\n",
       "      <td>692</td>\n",
       "    </tr>\n",
       "    <tr>\n",
       "      <th>5</th>\n",
       "      <td>1701</td>\n",
       "    </tr>\n",
       "  </tbody>\n",
       "</table>\n",
       "</div>"
      ],
      "text/plain": [
       "         logins\n",
       "user_id        \n",
       "1          2639\n",
       "2          1541\n",
       "3          1560\n",
       "4           692\n",
       "5          1701"
      ]
     },
     "execution_count": 46,
     "metadata": {},
     "output_type": "execute_result"
    }
   ],
   "source": [
    "logins_df.head()"
   ]
  },
  {
   "cell_type": "code",
   "execution_count": 35,
   "metadata": {},
   "outputs": [
    {
     "data": {
      "text/html": [
       "<div>\n",
       "<style scoped>\n",
       "    .dataframe tbody tr th:only-of-type {\n",
       "        vertical-align: middle;\n",
       "    }\n",
       "\n",
       "    .dataframe tbody tr th {\n",
       "        vertical-align: top;\n",
       "    }\n",
       "\n",
       "    .dataframe thead th {\n",
       "        text-align: right;\n",
       "    }\n",
       "</style>\n",
       "<table border=\"1\" class=\"dataframe\">\n",
       "  <thead>\n",
       "    <tr style=\"text-align: right;\">\n",
       "      <th></th>\n",
       "      <th>startdate</th>\n",
       "      <th>enddate</th>\n",
       "      <th>duration</th>\n",
       "    </tr>\n",
       "    <tr>\n",
       "      <th>user_id</th>\n",
       "      <th></th>\n",
       "      <th></th>\n",
       "      <th></th>\n",
       "    </tr>\n",
       "  </thead>\n",
       "  <tbody>\n",
       "    <tr>\n",
       "      <th>1</th>\n",
       "      <td>2018-01-26</td>\n",
       "      <td>2019-04-02</td>\n",
       "      <td>431 days</td>\n",
       "    </tr>\n",
       "    <tr>\n",
       "      <th>2</th>\n",
       "      <td>2018-01-26</td>\n",
       "      <td>2018-05-10</td>\n",
       "      <td>104 days</td>\n",
       "    </tr>\n",
       "    <tr>\n",
       "      <th>3</th>\n",
       "      <td>2018-01-26</td>\n",
       "      <td>2019-01-09</td>\n",
       "      <td>348 days</td>\n",
       "    </tr>\n",
       "    <tr>\n",
       "      <th>4</th>\n",
       "      <td>2018-01-26</td>\n",
       "      <td>2018-03-27</td>\n",
       "      <td>60 days</td>\n",
       "    </tr>\n",
       "    <tr>\n",
       "      <th>5</th>\n",
       "      <td>2018-01-26</td>\n",
       "      <td>2018-07-19</td>\n",
       "      <td>174 days</td>\n",
       "    </tr>\n",
       "  </tbody>\n",
       "</table>\n",
       "</div>"
      ],
      "text/plain": [
       "         startdate    enddate duration\n",
       "user_id                               \n",
       "1       2018-01-26 2019-04-02 431 days\n",
       "2       2018-01-26 2018-05-10 104 days\n",
       "3       2018-01-26 2019-01-09 348 days\n",
       "4       2018-01-26 2018-03-27  60 days\n",
       "5       2018-01-26 2018-07-19 174 days"
      ]
     },
     "execution_count": 35,
     "metadata": {},
     "output_type": "execute_result"
    }
   ],
   "source": [
    "user_df.head()"
   ]
  },
  {
   "cell_type": "markdown",
   "metadata": {},
   "source": [
    "merge logins_df and user_df on user_id to new dataframe (user_logins)  - make sure same number of rows"
   ]
  },
  {
   "cell_type": "code",
   "execution_count": 36,
   "metadata": {},
   "outputs": [],
   "source": [
    "user_logins = pd.merge(user_df, logins_df, on='user_id')"
   ]
  },
  {
   "cell_type": "markdown",
   "metadata": {},
   "source": [
    "now merge user_logins to df , use a left join so we don't lose individual log in times "
   ]
  },
  {
   "cell_type": "code",
   "execution_count": 37,
   "metadata": {},
   "outputs": [],
   "source": [
    "df = pd.merge(df, user_df, how='left', on='user_id')\n",
    "df['date'] = pd.to_datetime(df['date'], format='%Y-%m-%d')\n",
    "df['hour'] = pd.to_datetime(df['timestamp'], format='%H:%M:%S').dt.hour\n",
    "df.fillna(0, inplace=True)\n",
    "df.rename(columns={'startdate_x': 'startdate','enddate_x': 'enddate','duration_x': 'duration'}, inplace=True)\n",
    "df.drop(['timestamp'], axis=1, inplace=True)\n",
    "# df.drop(['startdate_y','enddate_y','duration_y'], axis=1, inplace=True)\n",
    "df = df[['date','user_id','hour','cohort','webpage','ip_addr','startdate','duration','enddate']]\n",
    "df.duration = df.duration.astype('timedelta64[D]').astype(int)\n",
    "df = df.set_index('date')"
   ]
  },
  {
   "cell_type": "code",
   "execution_count": 38,
   "metadata": {},
   "outputs": [
    {
     "data": {
      "text/html": [
       "<div>\n",
       "<style scoped>\n",
       "    .dataframe tbody tr th:only-of-type {\n",
       "        vertical-align: middle;\n",
       "    }\n",
       "\n",
       "    .dataframe tbody tr th {\n",
       "        vertical-align: top;\n",
       "    }\n",
       "\n",
       "    .dataframe thead th {\n",
       "        text-align: right;\n",
       "    }\n",
       "</style>\n",
       "<table border=\"1\" class=\"dataframe\">\n",
       "  <thead>\n",
       "    <tr style=\"text-align: right;\">\n",
       "      <th></th>\n",
       "      <th>user_id</th>\n",
       "      <th>hour</th>\n",
       "      <th>cohort</th>\n",
       "      <th>webpage</th>\n",
       "      <th>ip_addr</th>\n",
       "      <th>startdate</th>\n",
       "      <th>duration</th>\n",
       "      <th>enddate</th>\n",
       "    </tr>\n",
       "    <tr>\n",
       "      <th>date</th>\n",
       "      <th></th>\n",
       "      <th></th>\n",
       "      <th></th>\n",
       "      <th></th>\n",
       "      <th></th>\n",
       "      <th></th>\n",
       "      <th></th>\n",
       "      <th></th>\n",
       "    </tr>\n",
       "  </thead>\n",
       "  <tbody>\n",
       "    <tr>\n",
       "      <th>2018-06-05</th>\n",
       "      <td>1</td>\n",
       "      <td>8</td>\n",
       "      <td>8.0</td>\n",
       "      <td>java-iii/jdbc</td>\n",
       "      <td>97.105.19.61</td>\n",
       "      <td>2018-01-26</td>\n",
       "      <td>431</td>\n",
       "      <td>2019-04-02</td>\n",
       "    </tr>\n",
       "    <tr>\n",
       "      <th>2019-01-07</th>\n",
       "      <td>11</td>\n",
       "      <td>14</td>\n",
       "      <td>28.0</td>\n",
       "      <td>spring/fundamentals/form-model-binding</td>\n",
       "      <td>97.105.19.58</td>\n",
       "      <td>2018-01-26</td>\n",
       "      <td>431</td>\n",
       "      <td>2019-04-02</td>\n",
       "    </tr>\n",
       "    <tr>\n",
       "      <th>2018-04-01</th>\n",
       "      <td>83</td>\n",
       "      <td>22</td>\n",
       "      <td>18.0</td>\n",
       "      <td>spring/fundamentals/relationships</td>\n",
       "      <td>45.21.0.138</td>\n",
       "      <td>2018-02-03</td>\n",
       "      <td>313</td>\n",
       "      <td>2018-12-13</td>\n",
       "    </tr>\n",
       "    <tr>\n",
       "      <th>2018-11-07</th>\n",
       "      <td>294</td>\n",
       "      <td>10</td>\n",
       "      <td>27.0</td>\n",
       "      <td>html-css</td>\n",
       "      <td>97.105.19.58</td>\n",
       "      <td>2018-11-05</td>\n",
       "      <td>142</td>\n",
       "      <td>2019-03-27</td>\n",
       "    </tr>\n",
       "    <tr>\n",
       "      <th>2018-03-08</th>\n",
       "      <td>99</td>\n",
       "      <td>10</td>\n",
       "      <td>22.0</td>\n",
       "      <td>slides/collections</td>\n",
       "      <td>97.105.19.61</td>\n",
       "      <td>2018-02-12</td>\n",
       "      <td>339</td>\n",
       "      <td>2019-01-17</td>\n",
       "    </tr>\n",
       "    <tr>\n",
       "      <th>2018-08-16</th>\n",
       "      <td>207</td>\n",
       "      <td>15</td>\n",
       "      <td>24.0</td>\n",
       "      <td>mysql/users</td>\n",
       "      <td>97.105.19.58</td>\n",
       "      <td>2018-05-29</td>\n",
       "      <td>99</td>\n",
       "      <td>2018-09-05</td>\n",
       "    </tr>\n",
       "    <tr>\n",
       "      <th>2018-04-10</th>\n",
       "      <td>135</td>\n",
       "      <td>19</td>\n",
       "      <td>23.0</td>\n",
       "      <td>mkdocs/search_index.json</td>\n",
       "      <td>99.158.247.126</td>\n",
       "      <td>2018-03-05</td>\n",
       "      <td>151</td>\n",
       "      <td>2018-08-03</td>\n",
       "    </tr>\n",
       "    <tr>\n",
       "      <th>2019-03-10</th>\n",
       "      <td>339</td>\n",
       "      <td>9</td>\n",
       "      <td>29.0</td>\n",
       "      <td>java-ii/annotations</td>\n",
       "      <td>67.11.28.235</td>\n",
       "      <td>2019-01-22</td>\n",
       "      <td>70</td>\n",
       "      <td>2019-04-02</td>\n",
       "    </tr>\n",
       "    <tr>\n",
       "      <th>2018-08-14</th>\n",
       "      <td>199</td>\n",
       "      <td>22</td>\n",
       "      <td>24.0</td>\n",
       "      <td>mysql</td>\n",
       "      <td>99.158.247.252</td>\n",
       "      <td>2018-05-29</td>\n",
       "      <td>100</td>\n",
       "      <td>2018-09-06</td>\n",
       "    </tr>\n",
       "    <tr>\n",
       "      <th>2018-07-16</th>\n",
       "      <td>183</td>\n",
       "      <td>8</td>\n",
       "      <td>24.0</td>\n",
       "      <td>javascript-ii/promises</td>\n",
       "      <td>97.105.19.58</td>\n",
       "      <td>2018-05-29</td>\n",
       "      <td>234</td>\n",
       "      <td>2019-01-18</td>\n",
       "    </tr>\n",
       "  </tbody>\n",
       "</table>\n",
       "</div>"
      ],
      "text/plain": [
       "            user_id  hour  cohort                                 webpage  \\\n",
       "date                                                                        \n",
       "2018-06-05        1     8     8.0                           java-iii/jdbc   \n",
       "2019-01-07       11    14    28.0  spring/fundamentals/form-model-binding   \n",
       "2018-04-01       83    22    18.0       spring/fundamentals/relationships   \n",
       "2018-11-07      294    10    27.0                                html-css   \n",
       "2018-03-08       99    10    22.0                      slides/collections   \n",
       "2018-08-16      207    15    24.0                             mysql/users   \n",
       "2018-04-10      135    19    23.0                mkdocs/search_index.json   \n",
       "2019-03-10      339     9    29.0                     java-ii/annotations   \n",
       "2018-08-14      199    22    24.0                                   mysql   \n",
       "2018-07-16      183     8    24.0                  javascript-ii/promises   \n",
       "\n",
       "                   ip_addr  startdate  duration    enddate  \n",
       "date                                                        \n",
       "2018-06-05    97.105.19.61 2018-01-26       431 2019-04-02  \n",
       "2019-01-07    97.105.19.58 2018-01-26       431 2019-04-02  \n",
       "2018-04-01     45.21.0.138 2018-02-03       313 2018-12-13  \n",
       "2018-11-07    97.105.19.58 2018-11-05       142 2019-03-27  \n",
       "2018-03-08    97.105.19.61 2018-02-12       339 2019-01-17  \n",
       "2018-08-16    97.105.19.58 2018-05-29        99 2018-09-05  \n",
       "2018-04-10  99.158.247.126 2018-03-05       151 2018-08-03  \n",
       "2019-03-10    67.11.28.235 2019-01-22        70 2019-04-02  \n",
       "2018-08-14  99.158.247.252 2018-05-29       100 2018-09-06  \n",
       "2018-07-16    97.105.19.58 2018-05-29       234 2019-01-18  "
      ]
     },
     "execution_count": 38,
     "metadata": {},
     "output_type": "execute_result"
    }
   ],
   "source": [
    "df.sample(10)"
   ]
  },
  {
   "cell_type": "code",
   "execution_count": 39,
   "metadata": {},
   "outputs": [],
   "source": [
    "# user id looks scrambled,  or  our cohort isn't in the log yet\n",
    "# gary_df = df.loc[df['user_id'] == 673]\n",
    "# cohort22_df = df.loc[df['cohort'] == 22]\n",
    "# business_hours = df.loc[(df['hour'] >= 7) & (df['hour'] <= 18)]\n"
   ]
  },
  {
   "cell_type": "markdown",
   "metadata": {},
   "source": [
    "Now df is the original dataframe, date is back in datetime format (unsetting the index turned into string), plus columns for startdate, enddate, duration\n",
    "\n",
    "\n",
    "Go ahead with rest of lesson on time anomalies\n",
    "\n",
    "Need to come back to adding to the dataframe later,   add columns that allow subsets to be pulled out by\n",
    "1) weekday versus weekend\n",
    "2) after hours versus business hours\n",
    "3) total number of logins per user\n",
    "4) number of different Ip addrs\n",
    "5) curriculum\n",
    "6) distance to login ip_addr (will need lat/long info for this one)\n",
    "7) Cohort name"
   ]
  },
  {
   "cell_type": "code",
   "execution_count": 40,
   "metadata": {},
   "outputs": [],
   "source": [
    "business_hours = df.loc[(df['hour'] >= 20)]"
   ]
  },
  {
   "cell_type": "code",
   "execution_count": 41,
   "metadata": {},
   "outputs": [],
   "source": [
    "cohort22_df = df.loc[df['cohort'] == 22]"
   ]
  },
  {
   "cell_type": "markdown",
   "metadata": {},
   "source": [
    "there are 5 users who have been accessing the website for more that 425 days\n",
    "user_id = 1     #  datascience and webdev, probably Maggie\n",
    "user_id = 11    #  datascience and webdev, maybe Zach\n",
    "user_id = 36    #  looks like webdev only\n",
    "user_id = 48    # .  admin,   maybe Dmitri\n",
    "user_id = 41    #  Ryan? \n",
    "   \n",
    "need to figure out where (what pages) most of these spend their time   "
   ]
  },
  {
   "cell_type": "code",
   "execution_count": 42,
   "metadata": {},
   "outputs": [],
   "source": [
    "extended_users = df.loc[(df.duration >= 425)]"
   ]
  },
  {
   "cell_type": "code",
   "execution_count": 43,
   "metadata": {},
   "outputs": [
    {
     "data": {
      "text/plain": [
       "5"
      ]
     },
     "execution_count": 43,
     "metadata": {},
     "output_type": "execute_result"
    }
   ],
   "source": [
    "extended_users.user_id.nunique()"
   ]
  },
  {
   "cell_type": "code",
   "execution_count": 44,
   "metadata": {},
   "outputs": [],
   "source": [
    "# inst_df = df.loc[df['user_id'] == 41]\n",
    "# sorted(inst_df['webpage'].unique())"
   ]
  },
  {
   "cell_type": "markdown",
   "metadata": {},
   "source": [
    "next - need to aggregate by user_id and date to get count . (number of accesses per day), merge this into user_df"
   ]
  },
  {
   "cell_type": "code",
   "execution_count": 45,
   "metadata": {},
   "outputs": [],
   "source": [
    "#  use cohort 22 as the test base\n",
    "# adjust=False specifies that we are interested in the \n",
    "# recursive calculation mode.\n",
    "\n",
    "\n",
    "# ema_short = train.ewm(span=7, adjust=False).mean()\n",
    "# ema_short[0:3]\n",
    "\n",
    "# ema_long = train.ewm(span=span, adjust=False).mean()\n",
    "# ema_long[0:3]\n",
    "\n"
   ]
  }
 ],
 "metadata": {
  "kernelspec": {
   "display_name": "Python 3",
   "language": "python",
   "name": "python3"
  },
  "language_info": {
   "codemirror_mode": {
    "name": "ipython",
    "version": 3
   },
   "file_extension": ".py",
   "mimetype": "text/x-python",
   "name": "python",
   "nbconvert_exporter": "python",
   "pygments_lexer": "ipython3",
   "version": "3.7.1"
  }
 },
 "nbformat": 4,
 "nbformat_minor": 2
}
