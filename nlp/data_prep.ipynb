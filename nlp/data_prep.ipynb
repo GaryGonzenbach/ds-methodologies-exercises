{
 "cells": [
  {
   "cell_type": "code",
   "execution_count": 1,
   "metadata": {},
   "outputs": [],
   "source": [
    "from acquire import get_Codeup_blog_articles\n",
    "import re\n",
    "import unicodedata\n",
    "import json\n",
    "import pandas as pd"
   ]
  },
  {
   "cell_type": "code",
   "execution_count": 2,
   "metadata": {},
   "outputs": [
    {
     "name": "stderr",
     "output_type": "stream",
     "text": [
      "[nltk_data] Downloading package wordnet to\n",
      "[nltk_data]     /Users/garygonzenbach/nltk_data...\n",
      "[nltk_data]   Package wordnet is already up-to-date!\n",
      "[nltk_data] Downloading package stopwords to\n",
      "[nltk_data]     /Users/garygonzenbach/nltk_data...\n",
      "[nltk_data]   Package stopwords is already up-to-date!\n"
     ]
    }
   ],
   "source": [
    "import nltk\n",
    "nltk.download('wordnet')\n",
    "nltk.download('stopwords')\n",
    "from nltk.tokenize.toktok import ToktokTokenizer\n",
    "from nltk.corpus import stopwords\n",
    "\n",
    "#  python -c \"import nltk; nltk.download('stopwords')\""
   ]
  },
  {
   "cell_type": "code",
   "execution_count": 3,
   "metadata": {},
   "outputs": [],
   "source": [
    "articles = get_Codeup_blog_articles()"
   ]
  },
  {
   "cell_type": "code",
   "execution_count": 4,
   "metadata": {},
   "outputs": [
    {
     "data": {
      "text/html": [
       "<div>\n",
       "<style scoped>\n",
       "    .dataframe tbody tr th:only-of-type {\n",
       "        vertical-align: middle;\n",
       "    }\n",
       "\n",
       "    .dataframe tbody tr th {\n",
       "        vertical-align: top;\n",
       "    }\n",
       "\n",
       "    .dataframe thead th {\n",
       "        text-align: right;\n",
       "    }\n",
       "</style>\n",
       "<table border=\"1\" class=\"dataframe\">\n",
       "  <thead>\n",
       "    <tr style=\"text-align: right;\">\n",
       "      <th></th>\n",
       "      <th>title</th>\n",
       "      <th>contents</th>\n",
       "    </tr>\n",
       "  </thead>\n",
       "  <tbody>\n",
       "    <tr>\n",
       "      <th>0</th>\n",
       "      <td>&lt;title&gt;Codeup’s Data Science Career Accelerato...</td>\n",
       "      <td>\\nThe rumors are true! The time has arrived. C...</td>\n",
       "    </tr>\n",
       "    <tr>\n",
       "      <th>1</th>\n",
       "      <td>&lt;title&gt;Data Science Myths - Codeup&lt;/title&gt;</td>\n",
       "      <td>\\nBy Dimitri Antoniou and Maggie Giust\\nData S...</td>\n",
       "    </tr>\n",
       "    <tr>\n",
       "      <th>2</th>\n",
       "      <td>&lt;title&gt;Data Science VS Data Analytics: What’s ...</td>\n",
       "      <td>\\nBy Dimitri Antoniou\\nA week ago, Codeup laun...</td>\n",
       "    </tr>\n",
       "    <tr>\n",
       "      <th>3</th>\n",
       "      <td>&lt;title&gt;10 Tips to Crush It at the SA Tech Job ...</td>\n",
       "      <td>\\n10 Tips to Crush It at the SA Tech Job Fair\\...</td>\n",
       "    </tr>\n",
       "    <tr>\n",
       "      <th>4</th>\n",
       "      <td>&lt;title&gt;Competitor Bootcamps Are Closing. Is th...</td>\n",
       "      <td>\\nCompetitor Bootcamps Are Closing. Is the Mod...</td>\n",
       "    </tr>\n",
       "  </tbody>\n",
       "</table>\n",
       "</div>"
      ],
      "text/plain": [
       "                                               title  \\\n",
       "0  <title>Codeup’s Data Science Career Accelerato...   \n",
       "1         <title>Data Science Myths - Codeup</title>   \n",
       "2  <title>Data Science VS Data Analytics: What’s ...   \n",
       "3  <title>10 Tips to Crush It at the SA Tech Job ...   \n",
       "4  <title>Competitor Bootcamps Are Closing. Is th...   \n",
       "\n",
       "                                            contents  \n",
       "0  \\nThe rumors are true! The time has arrived. C...  \n",
       "1  \\nBy Dimitri Antoniou and Maggie Giust\\nData S...  \n",
       "2  \\nBy Dimitri Antoniou\\nA week ago, Codeup laun...  \n",
       "3  \\n10 Tips to Crush It at the SA Tech Job Fair\\...  \n",
       "4  \\nCompetitor Bootcamps Are Closing. Is the Mod...  "
      ]
     },
     "execution_count": 4,
     "metadata": {},
     "output_type": "execute_result"
    }
   ],
   "source": [
    "#   returns a dataframe\n",
    "original = articles.copy()\n",
    "articles.head()"
   ]
  },
  {
   "cell_type": "code",
   "execution_count": 5,
   "metadata": {},
   "outputs": [],
   "source": [
    "# pull out the first article .  (row zero,  contents)\n",
    "article = articles.at[0,'contents']\n"
   ]
  },
  {
   "cell_type": "code",
   "execution_count": 6,
   "metadata": {},
   "outputs": [],
   "source": [
    "#  normalize special characters, \n",
    "normalized = unicodedata.normalize('NFKD', article)"
   ]
  },
  {
   "cell_type": "code",
   "execution_count": 7,
   "metadata": {},
   "outputs": [
    {
     "data": {
      "text/plain": [
       "b'\\nThe rumors are true! The time has arrived. Codeup has officially opened applications to our new Data Science career accelerator, with only 25 seats available! This immersive program is one of a kind in San Antonio, and will help you land a job inGlassdoors #1 Best Job in America.\\nData Science is a method of providing actionable intelligence from data.The data revolution has hit San Antonio,resulting in an explosion in Data Scientist positionsacross companies like USAA, Accenture, Booz Allen Hamilton, and HEB. Weve even seenUTSA invest $70 M for a Cybersecurity Center and School of Data Science.We built a program to specifically meet the growing demands of this industry.\\nOur program will be 18 weeks long, full-time, hands-on, and project-based. Our curriculum development and instruction is led by Senior Data Scientist, Maggie Giust, who has worked at HEB, Capital Group, and Rackspace, along with input from dozens of practitioners and hiring partners. Students will work with real data sets, realistic problems, and the entire data science pipeline from collection to deployment. They will receive professional development training in resume writing, interviewing, and continuing education to prepare for a smooth transition to the workforce.\\nWe focus on applied data science for immediate impact and ROI in a business, which is how we can back it all up with a 6 month tuition refund guarantee  just like our existing Web Dev program. Were focusing on Data Science with Python, SQL, and ML, covered in14 modules: 1) Fundamentals; 2) Applied statistics; 3) SQL; 4) Python; 5) Supervised machine learning  regression; 6) Supervised machine learning  classification; 7) Unsupervised machine learning  clustering; 8) Time series analysis; 9) Anomaly detection; 10) Natural language processing; 11) Distributed machine learning; 12) Advanced topics (deep learning, NoSQL, cloud deployment, etc.); 13) Storytelling with data; and 14) Domain expertise development.\\nApplications are now openfor Codeups first Data Science cohort, which will start class on February 4, 2019. Hurry  there are only 25 seats available! To further our mission of cultivating inclusive growth, scholarships will be available to women, minorities, LGBTQIA+ individuals, veterans, first responders, and people relocating to San Antonio.\\nIf you want to learn about joining our program or hiring our graduates, email datascience@codeup.com!\\n'"
      ]
     },
     "execution_count": 7,
     "metadata": {},
     "output_type": "execute_result"
    }
   ],
   "source": [
    "#  just give all the ascii characters,  ignore errors (any chars that cannot be converted )\n",
    "# .  this returns python bytes as type,    it is not a string\n",
    "just_ascii = article.encode('ascii', 'ignore')\n",
    "just_ascii\n"
   ]
  },
  {
   "cell_type": "code",
   "execution_count": 8,
   "metadata": {},
   "outputs": [
    {
     "data": {
      "text/plain": [
       "'\\nThe rumors are true! The time has arrived. Codeup has officially opened applications to our new Data Science career accelerator, with only 25 seats available! This immersive program is one of a kind in San Antonio, and will help you land a job inGlassdoors #1 Best Job in America.\\nData Science is a method of providing actionable intelligence from data.The data revolution has hit San Antonio,resulting in an explosion in Data Scientist positionsacross companies like USAA, Accenture, Booz Allen Hamilton, and HEB. Weve even seenUTSA invest $70 M for a Cybersecurity Center and School of Data Science.We built a program to specifically meet the growing demands of this industry.\\nOur program will be 18 weeks long, full-time, hands-on, and project-based. Our curriculum development and instruction is led by Senior Data Scientist, Maggie Giust, who has worked at HEB, Capital Group, and Rackspace, along with input from dozens of practitioners and hiring partners. Students will work with real data sets, realistic problems, and the entire data science pipeline from collection to deployment. They will receive professional development training in resume writing, interviewing, and continuing education to prepare for a smooth transition to the workforce.\\nWe focus on applied data science for immediate impact and ROI in a business, which is how we can back it all up with a 6 month tuition refund guarantee  just like our existing Web Dev program. Were focusing on Data Science with Python, SQL, and ML, covered in14 modules: 1) Fundamentals; 2) Applied statistics; 3) SQL; 4) Python; 5) Supervised machine learning  regression; 6) Supervised machine learning  classification; 7) Unsupervised machine learning  clustering; 8) Time series analysis; 9) Anomaly detection; 10) Natural language processing; 11) Distributed machine learning; 12) Advanced topics (deep learning, NoSQL, cloud deployment, etc.); 13) Storytelling with data; and 14) Domain expertise development.\\nApplications are now openfor Codeups first Data Science cohort, which will start class on February 4, 2019. Hurry  there are only 25 seats available! To further our mission of cultivating inclusive growth, scholarships will be available to women, minorities, LGBTQIA+ individuals, veterans, first responders, and people relocating to San Antonio.\\nIf you want to learn about joining our program or hiring our graduates, email datascience@codeup.com!\\n'"
      ]
     },
     "execution_count": 8,
     "metadata": {},
     "output_type": "execute_result"
    }
   ],
   "source": [
    "# .  decode this back to a string\n",
    "just_ascii.decode('utf-8')"
   ]
  },
  {
   "cell_type": "code",
   "execution_count": 9,
   "metadata": {},
   "outputs": [],
   "source": [
    "without_special_chars = re.sub(r'[^\\w\\s]', ' ', article)"
   ]
  },
  {
   "cell_type": "code",
   "execution_count": 10,
   "metadata": {},
   "outputs": [],
   "source": [
    "# .  tokenize it by turnng a string into a list with .split\n",
    "word_list = without_special_chars.split()"
   ]
  },
  {
   "cell_type": "code",
   "execution_count": 11,
   "metadata": {},
   "outputs": [
    {
     "data": {
      "text/plain": [
       "['The',\n",
       " 'rumors',\n",
       " 'are',\n",
       " 'true',\n",
       " 'The',\n",
       " 'time',\n",
       " 'has',\n",
       " 'arrived',\n",
       " 'Codeup',\n",
       " 'has',\n",
       " 'officially',\n",
       " 'opened',\n",
       " 'applications',\n",
       " 'to',\n",
       " 'our',\n",
       " 'new',\n",
       " 'Data',\n",
       " 'Science',\n",
       " 'career',\n",
       " 'accelerator',\n",
       " 'with',\n",
       " 'only',\n",
       " '25',\n",
       " 'seats',\n",
       " 'available',\n",
       " 'This',\n",
       " 'immersive',\n",
       " 'program',\n",
       " 'is',\n",
       " 'one',\n",
       " 'of',\n",
       " 'a',\n",
       " 'kind',\n",
       " 'in',\n",
       " 'San',\n",
       " 'Antonio',\n",
       " 'and',\n",
       " 'will',\n",
       " 'help',\n",
       " 'you',\n",
       " 'land',\n",
       " 'a',\n",
       " 'job',\n",
       " 'in',\n",
       " 'Glassdoor',\n",
       " 's',\n",
       " '1',\n",
       " 'Best',\n",
       " 'Job',\n",
       " 'in',\n",
       " 'America',\n",
       " 'Data',\n",
       " 'Science',\n",
       " 'is',\n",
       " 'a',\n",
       " 'method',\n",
       " 'of',\n",
       " 'providing',\n",
       " 'actionable',\n",
       " 'intelligence',\n",
       " 'from',\n",
       " 'data',\n",
       " 'The',\n",
       " 'data',\n",
       " 'revolution',\n",
       " 'has',\n",
       " 'hit',\n",
       " 'San',\n",
       " 'Antonio',\n",
       " 'resulting',\n",
       " 'in',\n",
       " 'an',\n",
       " 'explosion',\n",
       " 'in',\n",
       " 'Data',\n",
       " 'Scientist',\n",
       " 'positions',\n",
       " 'across',\n",
       " 'companies',\n",
       " 'like',\n",
       " 'USAA',\n",
       " 'Accenture',\n",
       " 'Booz',\n",
       " 'Allen',\n",
       " 'Hamilton',\n",
       " 'and',\n",
       " 'HEB',\n",
       " 'We',\n",
       " 've',\n",
       " 'even',\n",
       " 'seen',\n",
       " 'UTSA',\n",
       " 'invest',\n",
       " '70',\n",
       " 'M',\n",
       " 'for',\n",
       " 'a',\n",
       " 'Cybersecurity',\n",
       " 'Center',\n",
       " 'and',\n",
       " 'School',\n",
       " 'of',\n",
       " 'Data',\n",
       " 'Science',\n",
       " 'We',\n",
       " 'built',\n",
       " 'a',\n",
       " 'program',\n",
       " 'to',\n",
       " 'specifically',\n",
       " 'meet',\n",
       " 'the',\n",
       " 'growing',\n",
       " 'demands',\n",
       " 'of',\n",
       " 'this',\n",
       " 'industry',\n",
       " 'Our',\n",
       " 'program',\n",
       " 'will',\n",
       " 'be',\n",
       " '18',\n",
       " 'weeks',\n",
       " 'long',\n",
       " 'full',\n",
       " 'time',\n",
       " 'hands',\n",
       " 'on',\n",
       " 'and',\n",
       " 'project',\n",
       " 'based',\n",
       " 'Our',\n",
       " 'curriculum',\n",
       " 'development',\n",
       " 'and',\n",
       " 'instruction',\n",
       " 'is',\n",
       " 'led',\n",
       " 'by',\n",
       " 'Senior',\n",
       " 'Data',\n",
       " 'Scientist',\n",
       " 'Maggie',\n",
       " 'Giust',\n",
       " 'who',\n",
       " 'has',\n",
       " 'worked',\n",
       " 'at',\n",
       " 'HEB',\n",
       " 'Capital',\n",
       " 'Group',\n",
       " 'and',\n",
       " 'Rackspace',\n",
       " 'along',\n",
       " 'with',\n",
       " 'input',\n",
       " 'from',\n",
       " 'dozens',\n",
       " 'of',\n",
       " 'practitioners',\n",
       " 'and',\n",
       " 'hiring',\n",
       " 'partners',\n",
       " 'Students',\n",
       " 'will',\n",
       " 'work',\n",
       " 'with',\n",
       " 'real',\n",
       " 'data',\n",
       " 'sets',\n",
       " 'realistic',\n",
       " 'problems',\n",
       " 'and',\n",
       " 'the',\n",
       " 'entire',\n",
       " 'data',\n",
       " 'science',\n",
       " 'pipeline',\n",
       " 'from',\n",
       " 'collection',\n",
       " 'to',\n",
       " 'deployment',\n",
       " 'They',\n",
       " 'will',\n",
       " 'receive',\n",
       " 'professional',\n",
       " 'development',\n",
       " 'training',\n",
       " 'in',\n",
       " 'resume',\n",
       " 'writing',\n",
       " 'interviewing',\n",
       " 'and',\n",
       " 'continuing',\n",
       " 'education',\n",
       " 'to',\n",
       " 'prepare',\n",
       " 'for',\n",
       " 'a',\n",
       " 'smooth',\n",
       " 'transition',\n",
       " 'to',\n",
       " 'the',\n",
       " 'workforce',\n",
       " 'We',\n",
       " 'focus',\n",
       " 'on',\n",
       " 'applied',\n",
       " 'data',\n",
       " 'science',\n",
       " 'for',\n",
       " 'immediate',\n",
       " 'impact',\n",
       " 'and',\n",
       " 'ROI',\n",
       " 'in',\n",
       " 'a',\n",
       " 'business',\n",
       " 'which',\n",
       " 'is',\n",
       " 'how',\n",
       " 'we',\n",
       " 'can',\n",
       " 'back',\n",
       " 'it',\n",
       " 'all',\n",
       " 'up',\n",
       " 'with',\n",
       " 'a',\n",
       " '6',\n",
       " 'month',\n",
       " 'tuition',\n",
       " 'refund',\n",
       " 'guarantee',\n",
       " 'just',\n",
       " 'like',\n",
       " 'our',\n",
       " 'existing',\n",
       " 'Web',\n",
       " 'Dev',\n",
       " 'program',\n",
       " 'We',\n",
       " 're',\n",
       " 'focusing',\n",
       " 'on',\n",
       " 'Data',\n",
       " 'Science',\n",
       " 'with',\n",
       " 'Python',\n",
       " 'SQL',\n",
       " 'and',\n",
       " 'ML',\n",
       " 'covered',\n",
       " 'in',\n",
       " '14',\n",
       " 'modules',\n",
       " '1',\n",
       " 'Fundamentals',\n",
       " '2',\n",
       " 'Applied',\n",
       " 'statistics',\n",
       " '3',\n",
       " 'SQL',\n",
       " '4',\n",
       " 'Python',\n",
       " '5',\n",
       " 'Supervised',\n",
       " 'machine',\n",
       " 'learning',\n",
       " 'regression',\n",
       " '6',\n",
       " 'Supervised',\n",
       " 'machine',\n",
       " 'learning',\n",
       " 'classification',\n",
       " '7',\n",
       " 'Unsupervised',\n",
       " 'machine',\n",
       " 'learning',\n",
       " 'clustering',\n",
       " '8',\n",
       " 'Time',\n",
       " 'series',\n",
       " 'analysis',\n",
       " '9',\n",
       " 'Anomaly',\n",
       " 'detection',\n",
       " '10',\n",
       " 'Natural',\n",
       " 'language',\n",
       " 'processing',\n",
       " '11',\n",
       " 'Distributed',\n",
       " 'machine',\n",
       " 'learning',\n",
       " '12',\n",
       " 'Advanced',\n",
       " 'topics',\n",
       " 'deep',\n",
       " 'learning',\n",
       " 'NoSQL',\n",
       " 'cloud',\n",
       " 'deployment',\n",
       " 'etc',\n",
       " '13',\n",
       " 'Storytelling',\n",
       " 'with',\n",
       " 'data',\n",
       " 'and',\n",
       " '14',\n",
       " 'Domain',\n",
       " 'expertise',\n",
       " 'development',\n",
       " 'Applications',\n",
       " 'are',\n",
       " 'now',\n",
       " 'open',\n",
       " 'for',\n",
       " 'Codeup',\n",
       " 's',\n",
       " 'first',\n",
       " 'Data',\n",
       " 'Science',\n",
       " 'cohort',\n",
       " 'which',\n",
       " 'will',\n",
       " 'start',\n",
       " 'class',\n",
       " 'on',\n",
       " 'February',\n",
       " '4',\n",
       " '2019',\n",
       " 'Hurry',\n",
       " 'there',\n",
       " 'are',\n",
       " 'only',\n",
       " '25',\n",
       " 'seats',\n",
       " 'available',\n",
       " 'To',\n",
       " 'further',\n",
       " 'our',\n",
       " 'mission',\n",
       " 'of',\n",
       " 'cultivating',\n",
       " 'inclusive',\n",
       " 'growth',\n",
       " 'scholarships',\n",
       " 'will',\n",
       " 'be',\n",
       " 'available',\n",
       " 'to',\n",
       " 'women',\n",
       " 'minorities',\n",
       " 'LGBTQIA',\n",
       " 'individuals',\n",
       " 'veterans',\n",
       " 'first',\n",
       " 'responders',\n",
       " 'and',\n",
       " 'people',\n",
       " 'relocating',\n",
       " 'to',\n",
       " 'San',\n",
       " 'Antonio',\n",
       " 'If',\n",
       " 'you',\n",
       " 'want',\n",
       " 'to',\n",
       " 'learn',\n",
       " 'about',\n",
       " 'joining',\n",
       " 'our',\n",
       " 'program',\n",
       " 'or',\n",
       " 'hiring',\n",
       " 'our',\n",
       " 'graduates',\n",
       " 'email',\n",
       " 'datascience',\n",
       " 'codeup',\n",
       " 'com']"
      ]
     },
     "execution_count": 11,
     "metadata": {},
     "output_type": "execute_result"
    }
   ],
   "source": [
    "# print out word_list\n",
    "word_list"
   ]
  },
  {
   "cell_type": "markdown",
   "metadata": {},
   "source": [
    "  ---   OR ----   use NLTK library to do the above process automatically"
   ]
  },
  {
   "cell_type": "code",
   "execution_count": 12,
   "metadata": {},
   "outputs": [
    {
     "data": {
      "text/plain": [
       "'The rumors are true ! The time has arrived. Codeup has officially opened applications to our new Data Science career accelerator , with only 25 seats available ! This immersive program is one of a kind in San Antonio , and will help you land a job in Glassdoor ’ s #1 Best Job in America.\\nData Science is a method of providing actionable intelligence from data. The data revolution has hit San Antonio , resulting in an explosion in Data Scientist positions across companies like USAA , Accenture , Booz Allen Hamilton , and HEB. We ’ ve even seen UTSA invest $ 70 M for a Cybersecurity Center and School of Data Science. We built a program to specifically meet the growing demands of this industry.\\nOur program will be 18 weeks long , full-time , hands-on , and project-based. Our curriculum development and instruction is led by Senior Data Scientist , Maggie Giust , who has worked at HEB , Capital Group , and Rackspace , along with input from dozens of practitioners and hiring partners. Students will work with real data sets , realistic problems , and the entire data science pipeline from collection to deployment. They will receive professional development training in resume writing , interviewing , and continuing education to prepare for a smooth transition to the workforce.\\nWe focus on applied data science for immediate impact and ROI in a business , which is how we can back it all up with a 6 month tuition refund guarantee – just like our existing Web Dev program. We ’ re focusing on Data Science with Python , SQL , and ML , covered in 14 modules : 1 ) Fundamentals ; 2 ) Applied statistics ; 3 ) SQL ; 4 ) Python ; 5 ) Supervised machine learning – regression ; 6 ) Supervised machine learning – classification ; 7 ) Unsupervised machine learning – clustering ; 8 ) Time series analysis ; 9 ) Anomaly detection ; 10 ) Natural language processing ; 11 ) Distributed machine learning ; 12 ) Advanced topics ( deep learning , NoSQL , cloud deployment , etc. ) ; 13 ) Storytelling with data ; and 14 ) Domain expertise development.\\nApplications are now open for Codeup ’ s first Data Science cohort , which will start class on February 4 , 2019. Hurry – there are only 25 seats available ! To further our mission of cultivating inclusive growth , scholarships will be available to women , minorities , LGBTQIA+ individuals , veterans , first responders , and people relocating to San Antonio.\\nIf you want to learn about joining our program or hiring our graduates , email datascience@codeup.com !'"
      ]
     },
     "execution_count": 12,
     "metadata": {},
     "output_type": "execute_result"
    }
   ],
   "source": [
    "tokenizer = nltk.tokenize.ToktokTokenizer()\n",
    "tokenizer.tokenize(article, return_str=True)"
   ]
  },
  {
   "cell_type": "code",
   "execution_count": 13,
   "metadata": {},
   "outputs": [],
   "source": [
    "ps = nltk.stem.PorterStemmer()\n"
   ]
  },
  {
   "cell_type": "code",
   "execution_count": 14,
   "metadata": {},
   "outputs": [
    {
     "data": {
      "text/plain": [
       "['call', 'call']"
      ]
     },
     "execution_count": 14,
     "metadata": {},
     "output_type": "execute_result"
    }
   ],
   "source": [
    "# example \n",
    "[ps.stem(word) for word in ['called', 'calling']]"
   ]
  },
  {
   "cell_type": "code",
   "execution_count": 15,
   "metadata": {},
   "outputs": [
    {
     "name": "stdout",
     "output_type": "stream",
     "text": [
      "the rumor are true the time ha arriv codeup ha offici open applic to our new data scienc career acceler with onli 25 seat avail thi immers program is one of a kind in san antonio and will help you land a job in glassdoor s 1 best job in america data scienc is a method of provid action intellig from data the data revolut ha hit san antonio result in an explos in data scientist posit across compani like usaa accentur booz allen hamilton and heb We ve even seen utsa invest 70 M for a cybersecur center and school of data scienc We built a program to specif meet the grow demand of thi industri our program will be 18 week long full time hand on and project base our curriculum develop and instruct is led by senior data scientist maggi giust who ha work at heb capit group and rackspac along with input from dozen of practition and hire partner student will work with real data set realist problem and the entir data scienc pipelin from collect to deploy they will receiv profession develop train in resum write interview and continu educ to prepar for a smooth transit to the workforc We focu on appli data scienc for immedi impact and roi in a busi which is how we can back it all up with a 6 month tuition refund guarante just like our exist web dev program We re focus on data scienc with python sql and ML cover in 14 modul 1 fundament 2 appli statist 3 sql 4 python 5 supervis machin learn regress 6 supervis machin learn classif 7 unsupervis machin learn cluster 8 time seri analysi 9 anomali detect 10 natur languag process 11 distribut machin learn 12 advanc topic deep learn nosql cloud deploy etc 13 storytel with data and 14 domain expertis develop applic are now open for codeup s first data scienc cohort which will start class on februari 4 2019 hurri there are onli 25 seat avail To further our mission of cultiv inclus growth scholarship will be avail to women minor lgbtqia individu veteran first respond and peopl reloc to san antonio If you want to learn about join our program or hire our graduat email datasci codeup com\n"
     ]
    }
   ],
   "source": [
    "print(' '.join([ps.stem(word) for word in word_list]))"
   ]
  },
  {
   "cell_type": "code",
   "execution_count": 16,
   "metadata": {},
   "outputs": [],
   "source": [
    "wnl = nltk.stem.WordNetLemmatizer()\n",
    "\n"
   ]
  },
  {
   "cell_type": "code",
   "execution_count": 17,
   "metadata": {},
   "outputs": [
    {
     "data": {
      "text/plain": [
       "['the',\n",
       " 'rumor',\n",
       " 'are',\n",
       " 'true',\n",
       " 'the',\n",
       " 'time',\n",
       " 'ha',\n",
       " 'arrived',\n",
       " 'codeup',\n",
       " 'ha',\n",
       " 'officially',\n",
       " 'opened',\n",
       " 'application',\n",
       " 'to',\n",
       " 'our',\n",
       " 'new',\n",
       " 'data',\n",
       " 'science',\n",
       " 'career',\n",
       " 'accelerator',\n",
       " 'with',\n",
       " 'only',\n",
       " '25',\n",
       " 'seat',\n",
       " 'available',\n",
       " 'this',\n",
       " 'immersive',\n",
       " 'program',\n",
       " 'is',\n",
       " 'one',\n",
       " 'of',\n",
       " 'a',\n",
       " 'kind',\n",
       " 'in',\n",
       " 'san',\n",
       " 'antonio',\n",
       " 'and',\n",
       " 'will',\n",
       " 'help',\n",
       " 'you',\n",
       " 'land',\n",
       " 'a',\n",
       " 'job',\n",
       " 'in',\n",
       " 'glassdoor',\n",
       " 's',\n",
       " '1',\n",
       " 'best',\n",
       " 'job',\n",
       " 'in',\n",
       " 'america',\n",
       " 'data',\n",
       " 'science',\n",
       " 'is',\n",
       " 'a',\n",
       " 'method',\n",
       " 'of',\n",
       " 'providing',\n",
       " 'actionable',\n",
       " 'intelligence',\n",
       " 'from',\n",
       " 'data',\n",
       " 'the',\n",
       " 'data',\n",
       " 'revolution',\n",
       " 'ha',\n",
       " 'hit',\n",
       " 'san',\n",
       " 'antonio',\n",
       " 'resulting',\n",
       " 'in',\n",
       " 'an',\n",
       " 'explosion',\n",
       " 'in',\n",
       " 'data',\n",
       " 'scientist',\n",
       " 'position',\n",
       " 'across',\n",
       " 'company',\n",
       " 'like',\n",
       " 'usaa',\n",
       " 'accenture',\n",
       " 'booz',\n",
       " 'allen',\n",
       " 'hamilton',\n",
       " 'and',\n",
       " 'heb',\n",
       " 'we',\n",
       " 've',\n",
       " 'even',\n",
       " 'seen',\n",
       " 'utsa',\n",
       " 'invest',\n",
       " '70',\n",
       " 'm',\n",
       " 'for',\n",
       " 'a',\n",
       " 'cybersecurity',\n",
       " 'center',\n",
       " 'and',\n",
       " 'school',\n",
       " 'of',\n",
       " 'data',\n",
       " 'science',\n",
       " 'we',\n",
       " 'built',\n",
       " 'a',\n",
       " 'program',\n",
       " 'to',\n",
       " 'specifically',\n",
       " 'meet',\n",
       " 'the',\n",
       " 'growing',\n",
       " 'demand',\n",
       " 'of',\n",
       " 'this',\n",
       " 'industry',\n",
       " 'our',\n",
       " 'program',\n",
       " 'will',\n",
       " 'be',\n",
       " '18',\n",
       " 'week',\n",
       " 'long',\n",
       " 'full',\n",
       " 'time',\n",
       " 'hand',\n",
       " 'on',\n",
       " 'and',\n",
       " 'project',\n",
       " 'based',\n",
       " 'our',\n",
       " 'curriculum',\n",
       " 'development',\n",
       " 'and',\n",
       " 'instruction',\n",
       " 'is',\n",
       " 'led',\n",
       " 'by',\n",
       " 'senior',\n",
       " 'data',\n",
       " 'scientist',\n",
       " 'maggie',\n",
       " 'giust',\n",
       " 'who',\n",
       " 'ha',\n",
       " 'worked',\n",
       " 'at',\n",
       " 'heb',\n",
       " 'capital',\n",
       " 'group',\n",
       " 'and',\n",
       " 'rackspace',\n",
       " 'along',\n",
       " 'with',\n",
       " 'input',\n",
       " 'from',\n",
       " 'dozen',\n",
       " 'of',\n",
       " 'practitioner',\n",
       " 'and',\n",
       " 'hiring',\n",
       " 'partner',\n",
       " 'student',\n",
       " 'will',\n",
       " 'work',\n",
       " 'with',\n",
       " 'real',\n",
       " 'data',\n",
       " 'set',\n",
       " 'realistic',\n",
       " 'problem',\n",
       " 'and',\n",
       " 'the',\n",
       " 'entire',\n",
       " 'data',\n",
       " 'science',\n",
       " 'pipeline',\n",
       " 'from',\n",
       " 'collection',\n",
       " 'to',\n",
       " 'deployment',\n",
       " 'they',\n",
       " 'will',\n",
       " 'receive',\n",
       " 'professional',\n",
       " 'development',\n",
       " 'training',\n",
       " 'in',\n",
       " 'resume',\n",
       " 'writing',\n",
       " 'interviewing',\n",
       " 'and',\n",
       " 'continuing',\n",
       " 'education',\n",
       " 'to',\n",
       " 'prepare',\n",
       " 'for',\n",
       " 'a',\n",
       " 'smooth',\n",
       " 'transition',\n",
       " 'to',\n",
       " 'the',\n",
       " 'workforce',\n",
       " 'we',\n",
       " 'focus',\n",
       " 'on',\n",
       " 'applied',\n",
       " 'data',\n",
       " 'science',\n",
       " 'for',\n",
       " 'immediate',\n",
       " 'impact',\n",
       " 'and',\n",
       " 'roi',\n",
       " 'in',\n",
       " 'a',\n",
       " 'business',\n",
       " 'which',\n",
       " 'is',\n",
       " 'how',\n",
       " 'we',\n",
       " 'can',\n",
       " 'back',\n",
       " 'it',\n",
       " 'all',\n",
       " 'up',\n",
       " 'with',\n",
       " 'a',\n",
       " '6',\n",
       " 'month',\n",
       " 'tuition',\n",
       " 'refund',\n",
       " 'guarantee',\n",
       " 'just',\n",
       " 'like',\n",
       " 'our',\n",
       " 'existing',\n",
       " 'web',\n",
       " 'dev',\n",
       " 'program',\n",
       " 'we',\n",
       " 're',\n",
       " 'focusing',\n",
       " 'on',\n",
       " 'data',\n",
       " 'science',\n",
       " 'with',\n",
       " 'python',\n",
       " 'sql',\n",
       " 'and',\n",
       " 'ml',\n",
       " 'covered',\n",
       " 'in',\n",
       " '14',\n",
       " 'module',\n",
       " '1',\n",
       " 'fundamental',\n",
       " '2',\n",
       " 'applied',\n",
       " 'statistic',\n",
       " '3',\n",
       " 'sql',\n",
       " '4',\n",
       " 'python',\n",
       " '5',\n",
       " 'supervised',\n",
       " 'machine',\n",
       " 'learning',\n",
       " 'regression',\n",
       " '6',\n",
       " 'supervised',\n",
       " 'machine',\n",
       " 'learning',\n",
       " 'classification',\n",
       " '7',\n",
       " 'unsupervised',\n",
       " 'machine',\n",
       " 'learning',\n",
       " 'clustering',\n",
       " '8',\n",
       " 'time',\n",
       " 'series',\n",
       " 'analysis',\n",
       " '9',\n",
       " 'anomaly',\n",
       " 'detection',\n",
       " '10',\n",
       " 'natural',\n",
       " 'language',\n",
       " 'processing',\n",
       " '11',\n",
       " 'distributed',\n",
       " 'machine',\n",
       " 'learning',\n",
       " '12',\n",
       " 'advanced',\n",
       " 'topic',\n",
       " 'deep',\n",
       " 'learning',\n",
       " 'nosql',\n",
       " 'cloud',\n",
       " 'deployment',\n",
       " 'etc',\n",
       " '13',\n",
       " 'storytelling',\n",
       " 'with',\n",
       " 'data',\n",
       " 'and',\n",
       " '14',\n",
       " 'domain',\n",
       " 'expertise',\n",
       " 'development',\n",
       " 'application',\n",
       " 'are',\n",
       " 'now',\n",
       " 'open',\n",
       " 'for',\n",
       " 'codeup',\n",
       " 's',\n",
       " 'first',\n",
       " 'data',\n",
       " 'science',\n",
       " 'cohort',\n",
       " 'which',\n",
       " 'will',\n",
       " 'start',\n",
       " 'class',\n",
       " 'on',\n",
       " 'february',\n",
       " '4',\n",
       " '2019',\n",
       " 'hurry',\n",
       " 'there',\n",
       " 'are',\n",
       " 'only',\n",
       " '25',\n",
       " 'seat',\n",
       " 'available',\n",
       " 'to',\n",
       " 'further',\n",
       " 'our',\n",
       " 'mission',\n",
       " 'of',\n",
       " 'cultivating',\n",
       " 'inclusive',\n",
       " 'growth',\n",
       " 'scholarship',\n",
       " 'will',\n",
       " 'be',\n",
       " 'available',\n",
       " 'to',\n",
       " 'woman',\n",
       " 'minority',\n",
       " 'lgbtqia',\n",
       " 'individual',\n",
       " 'veteran',\n",
       " 'first',\n",
       " 'responder',\n",
       " 'and',\n",
       " 'people',\n",
       " 'relocating',\n",
       " 'to',\n",
       " 'san',\n",
       " 'antonio',\n",
       " 'if',\n",
       " 'you',\n",
       " 'want',\n",
       " 'to',\n",
       " 'learn',\n",
       " 'about',\n",
       " 'joining',\n",
       " 'our',\n",
       " 'program',\n",
       " 'or',\n",
       " 'hiring',\n",
       " 'our',\n",
       " 'graduate',\n",
       " 'email',\n",
       " 'datascience',\n",
       " 'codeup',\n",
       " 'com']"
      ]
     },
     "execution_count": 17,
     "metadata": {},
     "output_type": "execute_result"
    }
   ],
   "source": [
    "lemmatized_words = [wnl.lemmatize(word.lower()) for word in word_list]\n",
    "lemmatized_words\n",
    "# print(' '.join(lemmatized_words))"
   ]
  },
  {
   "cell_type": "code",
   "execution_count": 18,
   "metadata": {},
   "outputs": [
    {
     "data": {
      "text/plain": [
       "data              13\n",
       "and               13\n",
       "to                 9\n",
       "a                  8\n",
       "in                 8\n",
       "our                7\n",
       "science            7\n",
       "the                6\n",
       "will               6\n",
       "with               6\n",
       "of                 6\n",
       "we                 5\n",
       "learning           5\n",
       "program            5\n",
       "ha                 4\n",
       "for                4\n",
       "is                 4\n",
       "on                 4\n",
       "machine            4\n",
       "from               3\n",
       "codeup             3\n",
       "time               3\n",
       "development        3\n",
       "are                3\n",
       "san                3\n",
       "available          3\n",
       "antonio            3\n",
       "14                 2\n",
       "4                  2\n",
       "s                  2\n",
       "                  ..\n",
       "cultivating        1\n",
       "work               1\n",
       "existing           1\n",
       "full               1\n",
       "ve                 1\n",
       "etc                1\n",
       "capital            1\n",
       "revolution         1\n",
       "officially         1\n",
       "learn              1\n",
       "resume             1\n",
       "glassdoor          1\n",
       "roi                1\n",
       "covered            1\n",
       "based              1\n",
       "accelerator        1\n",
       "prepare            1\n",
       "rumor              1\n",
       "position           1\n",
       "one                1\n",
       "scholarship        1\n",
       "m                  1\n",
       "seen               1\n",
       "opened             1\n",
       "accenture          1\n",
       "booz               1\n",
       "class              1\n",
       "now                1\n",
       "classification     1\n",
       "built              1\n",
       "Length: 237, dtype: int64"
      ]
     },
     "execution_count": 18,
     "metadata": {},
     "output_type": "execute_result"
    }
   ],
   "source": [
    "#  bag of words representation, simple example\n",
    "pd.Series(lemmatized_words).value_counts()"
   ]
  },
  {
   "cell_type": "code",
   "execution_count": 19,
   "metadata": {},
   "outputs": [],
   "source": [
    "stopword_list = stopwords.words('english')\n",
    "stopword_list.remove('no')\n",
    "stopword_list.remove('not')"
   ]
  },
  {
   "cell_type": "code",
   "execution_count": 20,
   "metadata": {},
   "outputs": [
    {
     "name": "stdout",
     "output_type": "stream",
     "text": [
      "rumor true time ha arrived codeup ha officially opened application new data science career accelerator 25 seat available immersive program one kind san antonio help land job glassdoor 1 best job america data science method providing actionable intelligence data data revolution ha hit san antonio resulting explosion data scientist position across company like usaa accenture booz allen hamilton heb even seen utsa invest 70 cybersecurity center school data science built program specifically meet growing demand industry program 18 week long full time hand project based curriculum development instruction led senior data scientist maggie giust ha worked heb capital group rackspace along input dozen practitioner hiring partner student work real data set realistic problem entire data science pipeline collection deployment receive professional development training resume writing interviewing continuing education prepare smooth transition workforce focus applied data science immediate impact roi business back 6 month tuition refund guarantee like existing web dev program focusing data science python sql ml covered 14 module 1 fundamental 2 applied statistic 3 sql 4 python 5 supervised machine learning regression 6 supervised machine learning classification 7 unsupervised machine learning clustering 8 time series analysis 9 anomaly detection 10 natural language processing 11 distributed machine learning 12 advanced topic deep learning nosql cloud deployment etc 13 storytelling data 14 domain expertise development application open codeup first data science cohort start class february 4 2019 hurry 25 seat available mission cultivating inclusive growth scholarship available woman minority lgbtqia individual veteran first responder people relocating san antonio want learn joining program hiring graduate email datascience codeup com\n"
     ]
    }
   ],
   "source": [
    "stopwords = nltk.corpus.stopwords.words('english')\n",
    "without_stopwords = [word for word in lemmatized_words if word not in stopwords]\n",
    "print(' '.join(without_stopwords))"
   ]
  },
  {
   "cell_type": "code",
   "execution_count": 21,
   "metadata": {},
   "outputs": [
    {
     "data": {
      "text/plain": [
       "['i',\n",
       " 'me',\n",
       " 'my',\n",
       " 'myself',\n",
       " 'we',\n",
       " 'our',\n",
       " 'ours',\n",
       " 'ourselves',\n",
       " 'you',\n",
       " \"you're\",\n",
       " \"you've\",\n",
       " \"you'll\",\n",
       " \"you'd\",\n",
       " 'your',\n",
       " 'yours',\n",
       " 'yourself',\n",
       " 'yourselves',\n",
       " 'he',\n",
       " 'him',\n",
       " 'his',\n",
       " 'himself',\n",
       " 'she',\n",
       " \"she's\",\n",
       " 'her',\n",
       " 'hers',\n",
       " 'herself',\n",
       " 'it',\n",
       " \"it's\",\n",
       " 'its',\n",
       " 'itself',\n",
       " 'they',\n",
       " 'them',\n",
       " 'their',\n",
       " 'theirs',\n",
       " 'themselves',\n",
       " 'what',\n",
       " 'which',\n",
       " 'who',\n",
       " 'whom',\n",
       " 'this',\n",
       " 'that',\n",
       " \"that'll\",\n",
       " 'these',\n",
       " 'those',\n",
       " 'am',\n",
       " 'is',\n",
       " 'are',\n",
       " 'was',\n",
       " 'were',\n",
       " 'be',\n",
       " 'been',\n",
       " 'being',\n",
       " 'have',\n",
       " 'has',\n",
       " 'had',\n",
       " 'having',\n",
       " 'do',\n",
       " 'does',\n",
       " 'did',\n",
       " 'doing',\n",
       " 'a',\n",
       " 'an',\n",
       " 'the',\n",
       " 'and',\n",
       " 'but',\n",
       " 'if',\n",
       " 'or',\n",
       " 'because',\n",
       " 'as',\n",
       " 'until',\n",
       " 'while',\n",
       " 'of',\n",
       " 'at',\n",
       " 'by',\n",
       " 'for',\n",
       " 'with',\n",
       " 'about',\n",
       " 'against',\n",
       " 'between',\n",
       " 'into',\n",
       " 'through',\n",
       " 'during',\n",
       " 'before',\n",
       " 'after',\n",
       " 'above',\n",
       " 'below',\n",
       " 'to',\n",
       " 'from',\n",
       " 'up',\n",
       " 'down',\n",
       " 'in',\n",
       " 'out',\n",
       " 'on',\n",
       " 'off',\n",
       " 'over',\n",
       " 'under',\n",
       " 'again',\n",
       " 'further',\n",
       " 'then',\n",
       " 'once',\n",
       " 'here',\n",
       " 'there',\n",
       " 'when',\n",
       " 'where',\n",
       " 'why',\n",
       " 'how',\n",
       " 'all',\n",
       " 'any',\n",
       " 'both',\n",
       " 'each',\n",
       " 'few',\n",
       " 'more',\n",
       " 'most',\n",
       " 'other',\n",
       " 'some',\n",
       " 'such',\n",
       " 'no',\n",
       " 'nor',\n",
       " 'not',\n",
       " 'only',\n",
       " 'own',\n",
       " 'same',\n",
       " 'so',\n",
       " 'than',\n",
       " 'too',\n",
       " 'very',\n",
       " 's',\n",
       " 't',\n",
       " 'can',\n",
       " 'will',\n",
       " 'just',\n",
       " 'don',\n",
       " \"don't\",\n",
       " 'should',\n",
       " \"should've\",\n",
       " 'now',\n",
       " 'd',\n",
       " 'll',\n",
       " 'm',\n",
       " 'o',\n",
       " 're',\n",
       " 've',\n",
       " 'y',\n",
       " 'ain',\n",
       " 'aren',\n",
       " \"aren't\",\n",
       " 'couldn',\n",
       " \"couldn't\",\n",
       " 'didn',\n",
       " \"didn't\",\n",
       " 'doesn',\n",
       " \"doesn't\",\n",
       " 'hadn',\n",
       " \"hadn't\",\n",
       " 'hasn',\n",
       " \"hasn't\",\n",
       " 'haven',\n",
       " \"haven't\",\n",
       " 'isn',\n",
       " \"isn't\",\n",
       " 'ma',\n",
       " 'mightn',\n",
       " \"mightn't\",\n",
       " 'mustn',\n",
       " \"mustn't\",\n",
       " 'needn',\n",
       " \"needn't\",\n",
       " 'shan',\n",
       " \"shan't\",\n",
       " 'shouldn',\n",
       " \"shouldn't\",\n",
       " 'wasn',\n",
       " \"wasn't\",\n",
       " 'weren',\n",
       " \"weren't\",\n",
       " 'won',\n",
       " \"won't\",\n",
       " 'wouldn',\n",
       " \"wouldn't\"]"
      ]
     },
     "execution_count": 21,
     "metadata": {},
     "output_type": "execute_result"
    }
   ],
   "source": [
    "stopwords"
   ]
  },
  {
   "cell_type": "code",
   "execution_count": 22,
   "metadata": {},
   "outputs": [],
   "source": [
    "def basic_clean(input_str):\n",
    "    lower_str = input_str.lower()\n",
    "    normalized = unicodedata.normalize('NFKD', lower_str)\n",
    "    return_str = re.sub(r'[^\\w\\s]', ' ', normalized)\n",
    "    return return_str\n",
    "    \n",
    "    "
   ]
  },
  {
   "cell_type": "code",
   "execution_count": 23,
   "metadata": {},
   "outputs": [],
   "source": [
    "article = articles.at[0,'contents']\n",
    "cleaned_article = basic_clean(article)"
   ]
  },
  {
   "cell_type": "code",
   "execution_count": 24,
   "metadata": {},
   "outputs": [
    {
     "name": "stdout",
     "output_type": "stream",
     "text": [
      "\n",
      "the rumors are true  the time has arrived  codeup has officially opened applications to our new data science career accelerator  with only 25 seats available  this immersive program is one of a kind in san antonio  and will help you land a job in glassdoor s  1 best job in america \n",
      "data science is a method of providing actionable intelligence from data  the data revolution has hit san antonio  resulting in an explosion in data scientist positions across companies like usaa  accenture  booz allen hamilton  and heb  we ve even seen utsa invest  70 m for a cybersecurity center and school of data science  we built a program to specifically meet the growing demands of this industry \n",
      "our program will be 18 weeks long  full time  hands on  and project based  our curriculum development and instruction is led by senior data scientist  maggie giust  who has worked at heb  capital group  and rackspace  along with input from dozens of practitioners and hiring partners  students will work with real data sets  realistic problems  and the entire data science pipeline from collection to deployment  they will receive professional development training in resume writing  interviewing  and continuing education to prepare for a smooth transition to the workforce \n",
      "we focus on applied data science for immediate impact and roi in a business  which is how we can back it all up with a 6 month tuition refund guarantee   just like our existing web dev program  we re focusing on data science with python  sql  and ml  covered in 14 modules  1  fundamentals  2  applied statistics  3  sql  4  python  5  supervised machine learning   regression  6  supervised machine learning   classification  7  unsupervised machine learning   clustering  8  time series analysis  9  anomaly detection  10  natural language processing  11  distributed machine learning  12  advanced topics  deep learning  nosql  cloud deployment  etc    13  storytelling with data  and 14  domain expertise development \n",
      "applications are now open for codeup s first data science cohort  which will start class on february 4  2019  hurry   there are only 25 seats available  to further our mission of cultivating inclusive growth  scholarships will be available to women  minorities  lgbtqia  individuals  veterans  first responders  and people relocating to san antonio \n",
      "if you want to learn about joining our program or hiring our graduates  email datascience codeup com \n",
      "\n"
     ]
    }
   ],
   "source": [
    "print(cleaned_article)"
   ]
  },
  {
   "cell_type": "code",
   "execution_count": 25,
   "metadata": {},
   "outputs": [],
   "source": [
    "def tokenize(input_str):\n",
    "    tokenizer = nltk.tokenize.ToktokTokenizer()\n",
    "    tokenizer.tokenize(input_str, return_str=True)\n",
    "    return_str = tokenizer.tokenize(input_str, return_str=True)\n",
    "    return return_str"
   ]
  },
  {
   "cell_type": "code",
   "execution_count": 26,
   "metadata": {},
   "outputs": [
    {
     "data": {
      "text/plain": [
       "2345"
      ]
     },
     "execution_count": 26,
     "metadata": {},
     "output_type": "execute_result"
    }
   ],
   "source": [
    "tokenstr = tokenize(cleaned_article)\n",
    "len(tokenstr)"
   ]
  },
  {
   "cell_type": "code",
   "execution_count": 27,
   "metadata": {},
   "outputs": [],
   "source": [
    "def stem(input_str):\n",
    "    ps = nltk.stem.PorterStemmer()\n",
    "    return_str = ' '.join([ps.stem(word) for word in input_str.split()])\n",
    "    return return_str"
   ]
  },
  {
   "cell_type": "code",
   "execution_count": 28,
   "metadata": {},
   "outputs": [
    {
     "data": {
      "text/plain": [
       "2044"
      ]
     },
     "execution_count": 28,
     "metadata": {},
     "output_type": "execute_result"
    }
   ],
   "source": [
    "stemmed_article = stem(tokenstr)\n",
    "len(stemmed_article)"
   ]
  },
  {
   "cell_type": "code",
   "execution_count": 29,
   "metadata": {},
   "outputs": [
    {
     "data": {
      "text/plain": [
       "'the rumor are true the time ha arriv codeup ha offici open applic to our new data scienc career acceler with onli 25 seat avail thi immers program is one of a kind in san antonio and will help you land a job in glassdoor s 1 best job in america data scienc is a method of provid action intellig from data the data revolut ha hit san antonio result in an explos in data scientist posit across compani like usaa accentur booz allen hamilton and heb we ve even seen utsa invest 70 m for a cybersecur center and school of data scienc we built a program to specif meet the grow demand of thi industri our program will be 18 week long full time hand on and project base our curriculum develop and instruct is led by senior data scientist maggi giust who ha work at heb capit group and rackspac along with input from dozen of practition and hire partner student will work with real data set realist problem and the entir data scienc pipelin from collect to deploy they will receiv profession develop train in resum write interview and continu educ to prepar for a smooth transit to the workforc we focu on appli data scienc for immedi impact and roi in a busi which is how we can back it all up with a 6 month tuition refund guarante just like our exist web dev program we re focus on data scienc with python sql and ml cover in 14 modul 1 fundament 2 appli statist 3 sql 4 python 5 supervis machin learn regress 6 supervis machin learn classif 7 unsupervis machin learn cluster 8 time seri analysi 9 anomali detect 10 natur languag process 11 distribut machin learn 12 advanc topic deep learn nosql cloud deploy etc 13 storytel with data and 14 domain expertis develop applic are now open for codeup s first data scienc cohort which will start class on februari 4 2019 hurri there are onli 25 seat avail to further our mission of cultiv inclus growth scholarship will be avail to women minor lgbtqia individu veteran first respond and peopl reloc to san antonio if you want to learn about join our program or hire our graduat email datasci codeup com'"
      ]
     },
     "execution_count": 29,
     "metadata": {},
     "output_type": "execute_result"
    }
   ],
   "source": [
    "stemmed_article"
   ]
  },
  {
   "cell_type": "code",
   "execution_count": 30,
   "metadata": {},
   "outputs": [
    {
     "data": {
      "text/plain": [
       "'the rumors are true the time has arrived codeup has officially opened applications to our new data science career accelerator with only 25 seats available this immersive program is one of a kind in san antonio and will help you land a job in glassdoor s 1 best job in america \\ndata science is a method of providing actionable intelligence from data the data revolution has hit san antonio resulting in an explosion in data scientist positions across companies like usaa accenture booz allen hamilton and heb we ve even seen utsa invest 70 m for a cybersecurity center and school of data science we built a program to specifically meet the growing demands of this industry \\nour program will be 18 weeks long full time hands on and project based our curriculum development and instruction is led by senior data scientist maggie giust who has worked at heb capital group and rackspace along with input from dozens of practitioners and hiring partners students will work with real data sets realistic problems and the entire data science pipeline from collection to deployment they will receive professional development training in resume writing interviewing and continuing education to prepare for a smooth transition to the workforce \\nwe focus on applied data science for immediate impact and roi in a business which is how we can back it all up with a 6 month tuition refund guarantee just like our existing web dev program we re focusing on data science with python sql and ml covered in 14 modules 1 fundamentals 2 applied statistics 3 sql 4 python 5 supervised machine learning regression 6 supervised machine learning classification 7 unsupervised machine learning clustering 8 time series analysis 9 anomaly detection 10 natural language processing 11 distributed machine learning 12 advanced topics deep learning nosql cloud deployment etc 13 storytelling with data and 14 domain expertise development \\napplications are now open for codeup s first data science cohort which will start class on february 4 2019 hurry there are only 25 seats available to further our mission of cultivating inclusive growth scholarships will be available to women minorities lgbtqia individuals veterans first responders and people relocating to san antonio \\nif you want to learn about joining our program or hiring our graduates email datascience codeup com'"
      ]
     },
     "execution_count": 30,
     "metadata": {},
     "output_type": "execute_result"
    }
   ],
   "source": [
    "tokenstr"
   ]
  },
  {
   "cell_type": "code",
   "execution_count": 31,
   "metadata": {},
   "outputs": [
    {
     "data": {
      "text/plain": [
       "2345"
      ]
     },
     "execution_count": 31,
     "metadata": {},
     "output_type": "execute_result"
    }
   ],
   "source": [
    "len(tokenstr)"
   ]
  },
  {
   "cell_type": "code",
   "execution_count": 32,
   "metadata": {},
   "outputs": [],
   "source": [
    "def lemmatize(input_str):\n",
    "    wnl = nltk.stem.WordNetLemmatizer()    \n",
    "    input_list = input_str.split()\n",
    "    lemmatized_words = [wnl.lemmatize(word) for word in input_list]\n",
    "    return_str = ' '.join(lemmatized_words)\n",
    "    return return_str"
   ]
  },
  {
   "cell_type": "code",
   "execution_count": 33,
   "metadata": {},
   "outputs": [],
   "source": [
    "lem_str = lemmatize(tokenstr)"
   ]
  },
  {
   "cell_type": "code",
   "execution_count": 34,
   "metadata": {},
   "outputs": [
    {
     "data": {
      "text/plain": [
       "2308"
      ]
     },
     "execution_count": 34,
     "metadata": {},
     "output_type": "execute_result"
    }
   ],
   "source": [
    "len(lem_str)"
   ]
  },
  {
   "cell_type": "code",
   "execution_count": 35,
   "metadata": {},
   "outputs": [
    {
     "data": {
      "text/plain": [
       "str"
      ]
     },
     "execution_count": 35,
     "metadata": {},
     "output_type": "execute_result"
    }
   ],
   "source": [
    "type(lem_str)"
   ]
  },
  {
   "cell_type": "code",
   "execution_count": 36,
   "metadata": {},
   "outputs": [],
   "source": [
    "def remove_stopwords(input_str, add_stopwords=[], exclude_stopwords=[]):\n",
    "    stopwords = nltk.corpus.stopwords.words('english')\n",
    "    if len(add_stopwords) > 0:\n",
    "        stopwords.extend(add_stopwords)        \n",
    "    if len(exclude_stopwords) > 0:\n",
    "        final_stop_words = [word for word in stopwords if word not in exclude_stopwords]   \n",
    "    else:\n",
    "        final_stop_words = stopwords\n",
    "    stopwords = final_stop_words\n",
    "    input_list = input_str.split()\n",
    "    without_stopwords = [word for word in input_list if word not in stopwords]        \n",
    "    return_str = ' '.join(without_stopwords)        \n",
    "    return return_str"
   ]
  },
  {
   "cell_type": "code",
   "execution_count": 37,
   "metadata": {},
   "outputs": [
    {
     "data": {
      "text/plain": [
       "'rumors true time arrived officially opened applications new data science career accelerator 25 seats available immersive program one kind san antonio help land job glassdoor 1 best job america data science method providing actionable intelligence data data revolution hit san antonio resulting explosion data scientist positions across companies like usaa accenture booz allen hamilton heb even seen utsa invest 70 cybersecurity center school data science built program specifically meet growing demands industry program 18 weeks long full time hands project based curriculum development instruction led senior data scientist maggie giust worked heb capital group rackspace along input dozens practitioners hiring partners students work real data sets realistic problems entire data science pipeline collection deployment receive professional development training resume writing interviewing continuing education prepare smooth transition workforce focus applied data science immediate impact roi business back 6 month tuition refund guarantee like existing web dev program focusing data science python sql ml covered 14 modules 1 fundamentals 2 applied statistics 3 sql 4 python 5 supervised machine learning regression 6 supervised machine learning classification 7 unsupervised machine learning clustering 8 time series analysis 9 anomaly detection 10 natural language processing 11 distributed machine learning 12 advanced topics deep learning nosql cloud deployment etc 13 storytelling data 14 domain expertise development applications open first data science cohort start class february 4 2019 hurry 25 seats available mission cultivating inclusive growth scholarships available women minorities lgbtqia individuals veterans first responders people relocating san antonio want learn joining program hiring graduates email datascience com'"
      ]
     },
     "execution_count": 37,
     "metadata": {},
     "output_type": "execute_result"
    }
   ],
   "source": [
    "# final_str = remove_stopwords(tokenstr,['codeup'],[''])\n",
    "final_str = remove_stopwords(tokenstr,['codeup'])/\n",
    "final_str"
   ]
  },
  {
   "cell_type": "code",
   "execution_count": 38,
   "metadata": {},
   "outputs": [
    {
     "data": {
      "text/plain": [
       "'the rumors are true the time has arrived codeup has officially opened applications to our new data science career accelerator with only 25 seats available this immersive program is one of a kind in san antonio and will help you land a job in glassdoor s 1 best job in america \\ndata science is a method of providing actionable intelligence from data the data revolution has hit san antonio resulting in an explosion in data scientist positions across companies like usaa accenture booz allen hamilton and heb we ve even seen utsa invest 70 m for a cybersecurity center and school of data science we built a program to specifically meet the growing demands of this industry \\nour program will be 18 weeks long full time hands on and project based our curriculum development and instruction is led by senior data scientist maggie giust who has worked at heb capital group and rackspace along with input from dozens of practitioners and hiring partners students will work with real data sets realistic problems and the entire data science pipeline from collection to deployment they will receive professional development training in resume writing interviewing and continuing education to prepare for a smooth transition to the workforce \\nwe focus on applied data science for immediate impact and roi in a business which is how we can back it all up with a 6 month tuition refund guarantee just like our existing web dev program we re focusing on data science with python sql and ml covered in 14 modules 1 fundamentals 2 applied statistics 3 sql 4 python 5 supervised machine learning regression 6 supervised machine learning classification 7 unsupervised machine learning clustering 8 time series analysis 9 anomaly detection 10 natural language processing 11 distributed machine learning 12 advanced topics deep learning nosql cloud deployment etc 13 storytelling with data and 14 domain expertise development \\napplications are now open for codeup s first data science cohort which will start class on february 4 2019 hurry there are only 25 seats available to further our mission of cultivating inclusive growth scholarships will be available to women minorities lgbtqia individuals veterans first responders and people relocating to san antonio \\nif you want to learn about joining our program or hiring our graduates email datascience codeup com'"
      ]
     },
     "execution_count": 38,
     "metadata": {},
     "output_type": "execute_result"
    }
   ],
   "source": [
    "tokenstr"
   ]
  },
  {
   "cell_type": "code",
   "execution_count": 40,
   "metadata": {},
   "outputs": [
    {
     "data": {
      "text/plain": [
       "<title>Codeup’s Data Science Career Accelerator is Here! - Codeup</title>"
      ]
     },
     "execution_count": 40,
     "metadata": {},
     "output_type": "execute_result"
    }
   ],
   "source": [
    "title"
   ]
  },
  {
   "cell_type": "markdown",
   "metadata": {},
   "source": [
    "resume here,    "
   ]
  },
  {
   "cell_type": "code",
   "execution_count": 49,
   "metadata": {},
   "outputs": [
    {
     "data": {
      "text/html": [
       "<div>\n",
       "<style scoped>\n",
       "    .dataframe tbody tr th:only-of-type {\n",
       "        vertical-align: middle;\n",
       "    }\n",
       "\n",
       "    .dataframe tbody tr th {\n",
       "        vertical-align: top;\n",
       "    }\n",
       "\n",
       "    .dataframe thead th {\n",
       "        text-align: right;\n",
       "    }\n",
       "</style>\n",
       "<table border=\"1\" class=\"dataframe\">\n",
       "  <thead>\n",
       "    <tr style=\"text-align: right;\">\n",
       "      <th></th>\n",
       "      <th>title</th>\n",
       "      <th>contents</th>\n",
       "    </tr>\n",
       "  </thead>\n",
       "  <tbody>\n",
       "    <tr>\n",
       "      <th>0</th>\n",
       "      <td>&lt;title&gt;Codeup’s Data Science Career Accelerato...</td>\n",
       "      <td>\\nThe rumors are true! The time has arrived. C...</td>\n",
       "    </tr>\n",
       "    <tr>\n",
       "      <th>1</th>\n",
       "      <td>&lt;title&gt;Data Science Myths - Codeup&lt;/title&gt;</td>\n",
       "      <td>\\nBy Dimitri Antoniou and Maggie Giust\\nData S...</td>\n",
       "    </tr>\n",
       "    <tr>\n",
       "      <th>2</th>\n",
       "      <td>&lt;title&gt;Data Science VS Data Analytics: What’s ...</td>\n",
       "      <td>\\nBy Dimitri Antoniou\\nA week ago, Codeup laun...</td>\n",
       "    </tr>\n",
       "    <tr>\n",
       "      <th>3</th>\n",
       "      <td>&lt;title&gt;10 Tips to Crush It at the SA Tech Job ...</td>\n",
       "      <td>\\n10 Tips to Crush It at the SA Tech Job Fair\\...</td>\n",
       "    </tr>\n",
       "    <tr>\n",
       "      <th>4</th>\n",
       "      <td>&lt;title&gt;Competitor Bootcamps Are Closing. Is th...</td>\n",
       "      <td>\\nCompetitor Bootcamps Are Closing. Is the Mod...</td>\n",
       "    </tr>\n",
       "  </tbody>\n",
       "</table>\n",
       "</div>"
      ],
      "text/plain": [
       "                                               title  \\\n",
       "0  <title>Codeup’s Data Science Career Accelerato...   \n",
       "1         <title>Data Science Myths - Codeup</title>   \n",
       "2  <title>Data Science VS Data Analytics: What’s ...   \n",
       "3  <title>10 Tips to Crush It at the SA Tech Job ...   \n",
       "4  <title>Competitor Bootcamps Are Closing. Is th...   \n",
       "\n",
       "                                            contents  \n",
       "0  \\nThe rumors are true! The time has arrived. C...  \n",
       "1  \\nBy Dimitri Antoniou and Maggie Giust\\nData S...  \n",
       "2  \\nBy Dimitri Antoniou\\nA week ago, Codeup laun...  \n",
       "3  \\n10 Tips to Crush It at the SA Tech Job Fair\\...  \n",
       "4  \\nCompetitor Bootcamps Are Closing. Is the Mod...  "
      ]
     },
     "execution_count": 49,
     "metadata": {},
     "output_type": "execute_result"
    }
   ],
   "source": [
    "articles.head()"
   ]
  },
  {
   "cell_type": "code",
   "execution_count": 52,
   "metadata": {},
   "outputs": [],
   "source": [
    "article = articles.at[0,'contents']\n",
    "title = articles.at[0,'title']\n",
    "# article"
   ]
  },
  {
   "cell_type": "code",
   "execution_count": 53,
   "metadata": {},
   "outputs": [],
   "source": [
    "def pull_article_asdict(df,rownum):\n",
    "    article = df.at[rownum,'contents']\n",
    "    title = df.at[rownum,'title']\n",
    "    article_dict = {'title' : title, 'contents' : article}\n",
    "    print(article_dict)\n",
    "    return article_dict"
   ]
  },
  {
   "cell_type": "raw",
   "metadata": {},
   "source": []
  },
  {
   "cell_type": "code",
   "execution_count": 54,
   "metadata": {},
   "outputs": [
    {
     "name": "stdout",
     "output_type": "stream",
     "text": [
      "{'title': <title>Codeup’s Data Science Career Accelerator is Here! - Codeup</title>, 'contents': '\\nThe rumors are true! The time has arrived. Codeup has officially opened applications to our new Data Science career accelerator, with only 25 seats available! This immersive program is one of a kind in San Antonio, and will help you land a job in\\xa0Glassdoor’s #1 Best Job in America.\\nData Science is a method of providing actionable intelligence from data.\\xa0The data revolution has hit San Antonio,\\xa0resulting in an explosion in Data Scientist positions\\xa0across companies like USAA, Accenture, Booz Allen Hamilton, and HEB. We’ve even seen\\xa0UTSA invest $70 M for a Cybersecurity Center and School of Data Science.\\xa0We built a program to specifically meet the growing demands of this industry.\\nOur program will be 18 weeks long, full-time, hands-on, and project-based. Our curriculum development and instruction is led by Senior Data Scientist, Maggie Giust, who has worked at HEB, Capital Group, and Rackspace, along with input from dozens of practitioners and hiring partners. Students will work with real data sets, realistic problems, and the entire data science pipeline from collection to deployment. They will receive professional development training in resume writing, interviewing, and continuing education to prepare for a smooth transition to the workforce.\\nWe focus on applied data science for immediate impact and ROI in a business, which is how we can back it all up with a 6 month tuition refund guarantee – just like our existing Web Dev program. We’re focusing on Data Science with Python, SQL, and ML, covered in\\xa014 modules: 1) Fundamentals; 2) Applied statistics; 3) SQL; 4) Python; 5) Supervised machine learning – regression; 6) Supervised machine learning – classification; 7) Unsupervised machine learning – clustering; 8) Time series analysis; 9) Anomaly detection; 10) Natural language processing; 11) Distributed machine learning; 12) Advanced topics (deep learning, NoSQL, cloud deployment, etc.); 13) Storytelling with data; and 14) Domain expertise development.\\nApplications are now open\\xa0for Codeup’s first Data Science cohort, which will start class on February 4, 2019. Hurry – there are only 25 seats available! To further our mission of cultivating inclusive growth, scholarships will be available to women, minorities, LGBTQIA+ individuals, veterans, first responders, and people relocating to San Antonio.\\nIf you want to learn about joining our program or hiring our graduates, email datascience@codeup.com!\\n'}\n"
     ]
    }
   ],
   "source": [
    "article_dictionary = pull_article_asdict(articles,0)"
   ]
  },
  {
   "cell_type": "code",
   "execution_count": 62,
   "metadata": {},
   "outputs": [],
   "source": [
    "def prep_article(article_dict):\n",
    "    title = article_dict['title']\n",
    "    original = article_dict['contents']\n",
    "    print('title = ',title)\n",
    "    print('original = ',original)\n",
    "    return True"
   ]
  },
  {
   "cell_type": "code",
   "execution_count": 63,
   "metadata": {},
   "outputs": [
    {
     "name": "stdout",
     "output_type": "stream",
     "text": [
      "title =  <title>Codeup’s Data Science Career Accelerator is Here! - Codeup</title>\n",
      "original =  \n",
      "The rumors are true! The time has arrived. Codeup has officially opened applications to our new Data Science career accelerator, with only 25 seats available! This immersive program is one of a kind in San Antonio, and will help you land a job in Glassdoor’s #1 Best Job in America.\n",
      "Data Science is a method of providing actionable intelligence from data. The data revolution has hit San Antonio, resulting in an explosion in Data Scientist positions across companies like USAA, Accenture, Booz Allen Hamilton, and HEB. We’ve even seen UTSA invest $70 M for a Cybersecurity Center and School of Data Science. We built a program to specifically meet the growing demands of this industry.\n",
      "Our program will be 18 weeks long, full-time, hands-on, and project-based. Our curriculum development and instruction is led by Senior Data Scientist, Maggie Giust, who has worked at HEB, Capital Group, and Rackspace, along with input from dozens of practitioners and hiring partners. Students will work with real data sets, realistic problems, and the entire data science pipeline from collection to deployment. They will receive professional development training in resume writing, interviewing, and continuing education to prepare for a smooth transition to the workforce.\n",
      "We focus on applied data science for immediate impact and ROI in a business, which is how we can back it all up with a 6 month tuition refund guarantee – just like our existing Web Dev program. We’re focusing on Data Science with Python, SQL, and ML, covered in 14 modules: 1) Fundamentals; 2) Applied statistics; 3) SQL; 4) Python; 5) Supervised machine learning – regression; 6) Supervised machine learning – classification; 7) Unsupervised machine learning – clustering; 8) Time series analysis; 9) Anomaly detection; 10) Natural language processing; 11) Distributed machine learning; 12) Advanced topics (deep learning, NoSQL, cloud deployment, etc.); 13) Storytelling with data; and 14) Domain expertise development.\n",
      "Applications are now open for Codeup’s first Data Science cohort, which will start class on February 4, 2019. Hurry – there are only 25 seats available! To further our mission of cultivating inclusive growth, scholarships will be available to women, minorities, LGBTQIA+ individuals, veterans, first responders, and people relocating to San Antonio.\n",
      "If you want to learn about joining our program or hiring our graduates, email datascience@codeup.com!\n",
      "\n"
     ]
    },
    {
     "data": {
      "text/plain": [
       "True"
      ]
     },
     "execution_count": 63,
     "metadata": {},
     "output_type": "execute_result"
    }
   ],
   "source": [
    "prep_article(article_dictionary)"
   ]
  },
  {
   "cell_type": "code",
   "execution_count": null,
   "metadata": {},
   "outputs": [],
   "source": []
  }
 ],
 "metadata": {
  "kernelspec": {
   "display_name": "Python 3",
   "language": "python",
   "name": "python3"
  },
  "language_info": {
   "codemirror_mode": {
    "name": "ipython",
    "version": 3
   },
   "file_extension": ".py",
   "mimetype": "text/x-python",
   "name": "python",
   "nbconvert_exporter": "python",
   "pygments_lexer": "ipython3",
   "version": "3.7.1"
  }
 },
 "nbformat": 4,
 "nbformat_minor": 2
}
