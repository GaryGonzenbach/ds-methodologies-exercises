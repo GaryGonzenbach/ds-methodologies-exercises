{
 "cells": [
  {
   "cell_type": "code",
   "execution_count": 2,
   "metadata": {},
   "outputs": [],
   "source": [
    "import multiprocessing\n",
    "import pyspark\n",
    "from pyspark.sql.types import *\n",
    "from pyspark.sql.functions import col, column, expr\n",
    "import pyspark.sql.types as T\n",
    "from pyspark.sql.functions import unix_timestamp\n",
    "from pyspark.sql.functions import from_unixtime\n",
    "import pandas as pd\n",
    "import numpy as np\n",
    "\n",
    "from pyspark.sql.functions import *\n",
    "# import pyspark.sql.functions as F\n",
    "\n",
    "nprocs = multiprocessing.cpu_count()"
   ]
  },
  {
   "cell_type": "code",
   "execution_count": 3,
   "metadata": {},
   "outputs": [
    {
     "data": {
      "text/plain": [
       "<bound method DataFrameReader.parquet of <pyspark.sql.readwriter.DataFrameReader object at 0x11fe6e390>>"
      ]
     },
     "execution_count": 3,
     "metadata": {},
     "output_type": "execute_result"
    }
   ],
   "source": [
    "spark = (pyspark.sql.SparkSession.builder\n",
    " .master('local')\n",
    " .config('spark.jars.packages', 'mysql:mysql-connector-java:8.0.16')\n",
    " .config('spark.driver.memory', '4G')\n",
    " .config('spark.driver.cores', nprocs)\n",
    " .config('spark.sql.shuffle.partitions', nprocs)\n",
    " .appName('MySparkApplication')\n",
    " .getOrCreate())\n",
    "\n",
    "spark.read.json\n",
    "spark.read.parquet"
   ]
  },
  {
   "cell_type": "code",
   "execution_count": 4,
   "metadata": {},
   "outputs": [],
   "source": [
    "df_case = (spark.read\n",
    " .option('header', True)\n",
    " .option('inferSchema', True)\n",
    "# .option('schema', case_schema)          \n",
    " .format('csv')\n",
    " .load('./sa311/case.csv'))"
   ]
  },
  {
   "cell_type": "code",
   "execution_count": 10,
   "metadata": {},
   "outputs": [
    {
     "name": "stdout",
     "output_type": "stream",
     "text": [
      "+----------+----------------+----------------+------------+---------+------------------+-----------+----------------+--------------------+--------+-----------+---------+--------------------+----------------+\n",
      "|   case_id|case_opened_date|case_closed_date|SLA_due_date|case_late|     num_days_late|case_closed|   dept_division|service_request_type|SLA_days|case_status|source_id|     request_address|council_district|\n",
      "+----------+----------------+----------------+------------+---------+------------------+-----------+----------------+--------------------+--------+-----------+---------+--------------------+----------------+\n",
      "|1014097240|   12/15/17 9:28|   12/15/17 9:34| 9/9/20 9:28|       NO|-998.9955323999999|        YES|Field Operations|        Stray Animal|   999.0|     Closed|  DS15677|7034  HEATHERS PO...|               4|\n",
      "|1014097192|   12/15/17 9:15|   12/15/17 9:19| 9/9/20 9:15|       NO|      -998.9976273|        YES|Field Operations|        Stray Animal|   999.0|     Closed|  DS15677|4603  VANCE JACKS...|               1|\n",
      "|1014097109|   12/15/17 8:51|   12/15/17 8:55| 9/9/20 8:51|       NO|-998.9974652999999|        YES|Field Operations|        Stray Animal|   999.0|     Closed|  mt13131|1003  NEW BRNFLS ...|               2|\n",
      "|1014097078|   12/15/17 8:43|   12/15/17 8:51| 9/9/20 8:43|       NO|      -998.9946759|        YES|Field Operations|        Stray Animal|   999.0|     Closed|  me05816|143  FENNEL, San ...|               1|\n",
      "|1014097075|   12/15/17 8:42|   12/15/17 8:51| 9/9/20 8:42|       NO|      -998.9941898|        YES|Field Operations|        Stray Animal|   999.0|     Closed|   139344|742  HEARNE, San ...|               5|\n",
      "|1014097056|   12/15/17 8:35|   12/15/17 8:41| 9/9/20 8:35|       NO|      -998.9956366|        YES|Field Operations|        Stray Animal|   999.0|     Closed|  me05816|ELLISON DR S and ...|               4|\n",
      "|1014097055|   12/15/17 8:35|   12/15/17 8:41| 9/9/20 8:35|       NO|-998.9957406999999|        YES|Field Operations|        Stray Animal|   999.0|     Closed|  NO10960|118  SEASHELL PLA...|               4|\n",
      "|1014096991|   12/15/17 8:15|   12/15/17 9:04| 9/9/20 8:15|       NO|-998.9664119999999|        YES|Field Operations|        Stray Animal|   999.0|     Closed| svcCRMSS|114  CRESTVIEW DR...|               7|\n",
      "|1014096988|   12/15/17 8:13|   12/15/17 9:35| 9/9/20 8:13|       NO|-998.9430207999999|        YES|Field Operations|        Stray Animal|   999.0|     Closed| svcCRMSS|1600  WHITMAN AVE...|               5|\n",
      "|1014096940|   12/15/17 7:56|   12/15/17 8:04| 9/9/20 7:56|       NO|       -998.994375|        YES|Field Operations|        Stray Animal|   999.0|     Closed|  jw10936|1231  TIGER PATH,...|               4|\n",
      "|1014096918|   12/15/17 7:45|   12/15/17 7:48| 9/9/20 7:45|       NO|      -998.9978125|        YES|Field Operations|        Stray Animal|   999.0|     Closed|  MW16328|BABCOCK RD and HO...|               8|\n",
      "|1014096889|   12/15/17 7:19|   12/15/17 8:26| 9/9/20 7:19|       NO|-998.9532755000001|        YES|Field Operations|        Stray Animal|   999.0|     Closed| svcCRMSS|5940  DANNY KAYE,...|               7|\n",
      "|1014099486|  12/15/17 23:09|   12/16/17 6:00|9/9/20 23:09|       NO|      -998.7141782|        YES|Field Operations|        Stray Animal|   999.0|     Closed| svcCRMSS|NOBLE AVE and PYR...|               3|\n",
      "|1014099485|  12/15/17 23:05|   12/16/17 6:00|9/9/20 23:05|       NO|-998.7113310000001|        YES|Field Operations|        Stray Animal|   999.0|     Closed| svcCRMSS|PYRON AVE W and T...|               3|\n",
      "|1014099258|  12/15/17 17:16|  12/15/17 18:45|9/9/20 17:16|       NO|-998.9377777999999|        YES|Field Operations|        Stray Animal|   999.0|     Closed|  gp20685|9602  SIMPLICITY ...|               4|\n",
      "|1014099094|  12/15/17 16:25|  12/15/17 18:45|9/9/20 16:25|       NO|      -998.9033565|        YES|Field Operations|        Stray Animal|   999.0|     Closed|   139342|OLD DEPOT and VIL...|               6|\n",
      "|1014099092|  12/15/17 16:25|  12/15/17 18:41|9/9/20 16:25|       NO|-998.9057985999999|        YES|Field Operations|        Stray Animal|   999.0|     Closed|   139344|3015  MONTEREY ST...|               5|\n",
      "|1014098979|  12/15/17 15:57|  12/15/17 18:45|9/9/20 15:57|       NO|      -998.8837384|        YES|Field Operations|        Stray Animal|   999.0|     Closed|   139344|HAMILTON ST N and...|               5|\n",
      "|1014098897|  12/15/17 15:43|  12/15/17 18:37|9/9/20 15:43|       NO|      -998.8788657|        YES|Field Operations|        Stray Animal|   999.0|     Closed|  mt13131|ELLISON DR S and ...|               4|\n",
      "|1014098653|  12/15/17 14:43|  12/15/17 14:48|9/9/20 14:43|       NO|      -998.9961227|        YES|Field Operations|        Stray Animal|   999.0|     Closed|  gp20685|6800  MILITARY DR...|               6|\n",
      "+----------+----------------+----------------+------------+---------+------------------+-----------+----------------+--------------------+--------+-----------+---------+--------------------+----------------+\n",
      "only showing top 20 rows\n",
      "\n"
     ]
    }
   ],
   "source": [
    "# df_case.sort(df_case.SLA_due_date).show()\n",
    "# df_case.orderBy(df_case.SLA_due_date, df_case.num_days_late).show()\n",
    "\n",
    "df_case.orderBy(df_case.SLA_due_date.desc(), desc('SLA_due_date')).show()"
   ]
  },
  {
   "cell_type": "code",
   "execution_count": null,
   "metadata": {},
   "outputs": [],
   "source": []
  }
 ],
 "metadata": {
  "kernelspec": {
   "display_name": "Python 3",
   "language": "python",
   "name": "python3"
  },
  "language_info": {
   "codemirror_mode": {
    "name": "ipython",
    "version": 3
   },
   "file_extension": ".py",
   "mimetype": "text/x-python",
   "name": "python",
   "nbconvert_exporter": "python",
   "pygments_lexer": "ipython3",
   "version": "3.7.1"
  }
 },
 "nbformat": 4,
 "nbformat_minor": 2
}
