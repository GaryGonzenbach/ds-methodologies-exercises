{
 "cells": [
  {
   "cell_type": "markdown",
   "metadata": {},
   "source": [
    "Cluster Analysis"
   ]
  },
  {
   "cell_type": "code",
   "execution_count": 1,
   "metadata": {},
   "outputs": [],
   "source": [
    "import warnings\n",
    "warnings.filterwarnings(\"ignore\")\n",
    "\n",
    "import pandas as pd\n",
    "import numpy as np\n",
    "\n",
    "from acquire_zillow import get_connection\n",
    "from acquire_zillow import get_zillow_data\n",
    "from acquire_mall import get_mall_data\n",
    "from prepare_zillow import get_numeric_columns\n",
    "from prepare_zillow import change_numeric_2str\n",
    "from prepare_zillow import matching_strings_inrows\n",
    "from prepare_zillow import delete_missing_byrow\n",
    "from prepare_zillow import delete_missing_bycolumn\n",
    "from prepare_zillow import replace_nulls\n",
    "\n",
    "import env\n"
   ]
  },
  {
   "cell_type": "markdown",
   "metadata": {},
   "source": [
    "Either use get_zillow_data to connect to sql and load directly to a dataframe (and the write to working directory csv),    or read from csv into dataframe"
   ]
  },
  {
   "cell_type": "code",
   "execution_count": 2,
   "metadata": {},
   "outputs": [],
   "source": [
    "# df = get_zillow_data()\n",
    "# df.to_csv('zillow.csv', index=False)"
   ]
  },
  {
   "cell_type": "code",
   "execution_count": 3,
   "metadata": {},
   "outputs": [],
   "source": [
    "df = pd.read_csv('zillow.csv')"
   ]
  },
  {
   "cell_type": "code",
   "execution_count": 4,
   "metadata": {},
   "outputs": [],
   "source": [
    "numeric_cols = get_numeric_columns(df,['parcelid'])\n",
    "# len(numeric_cols)"
   ]
  },
  {
   "cell_type": "code",
   "execution_count": 5,
   "metadata": {},
   "outputs": [],
   "source": [
    "#  count the number of unique values for all numeric columns\n",
    "# df.select_dtypes('number').nunique()"
   ]
  },
  {
   "cell_type": "code",
   "execution_count": 6,
   "metadata": {},
   "outputs": [],
   "source": [
    "# change the numeric columns that only have 1 or 2 unique values to type string\n",
    "col_list = ['decktypeid','fips','regionidcounty','yearbuilt', 'hashottuborspa', 'fireplaceflag','poolcnt']\n",
    "df = change_numeric_2str(df, col_list)"
   ]
  },
  {
   "cell_type": "code",
   "execution_count": 7,
   "metadata": {},
   "outputs": [],
   "source": [
    "# if 30% of the values in a column are null, remove the column\n",
    "df = delete_missing_bycolumn(df, 0.3)"
   ]
  },
  {
   "cell_type": "code",
   "execution_count": 8,
   "metadata": {},
   "outputs": [
    {
     "data": {
      "text/plain": [
       "(167854, 27)"
      ]
     },
     "execution_count": 8,
     "metadata": {},
     "output_type": "execute_result"
    }
   ],
   "source": [
    "df.shape"
   ]
  },
  {
   "cell_type": "code",
   "execution_count": 9,
   "metadata": {},
   "outputs": [],
   "source": [
    "text_list = ['single','condominium']"
   ]
  },
  {
   "cell_type": "code",
   "execution_count": 10,
   "metadata": {},
   "outputs": [],
   "source": [
    "df = matching_strings_inrows(df, 'propertylandusedesc', text_list )"
   ]
  },
  {
   "cell_type": "code",
   "execution_count": 11,
   "metadata": {},
   "outputs": [
    {
     "data": {
      "text/plain": [
       "(155235, 27)"
      ]
     },
     "execution_count": 11,
     "metadata": {},
     "output_type": "execute_result"
    }
   ],
   "source": [
    "df.shape"
   ]
  },
  {
   "cell_type": "code",
   "execution_count": 12,
   "metadata": {},
   "outputs": [],
   "source": [
    "# delete rows that have 10% of their values as zero, blank, or missing\n",
    "df = delete_missing_byrow(df, .10, .10, .10)"
   ]
  },
  {
   "cell_type": "code",
   "execution_count": 13,
   "metadata": {},
   "outputs": [
    {
     "name": "stdout",
     "output_type": "stream",
     "text": [
      "<class 'pandas.core.frame.DataFrame'>\n",
      "Int64Index: 154466 entries, 0 to 167849\n",
      "Data columns (total 27 columns):\n",
      "parcelid                        154466 non-null int64\n",
      "logerror                        154466 non-null float64\n",
      "transactiondate                 154466 non-null object\n",
      "bathroomcnt                     154466 non-null float64\n",
      "bedroomcnt                      154466 non-null float64\n",
      "calculatedbathnbr               154430 non-null float64\n",
      "calculatedfinishedsquarefeet    154452 non-null float64\n",
      "finishedsquarefeet12            154150 non-null float64\n",
      "fips                            154466 non-null object\n",
      "fullbathcnt                     154430 non-null float64\n",
      "latitude                        154466 non-null float64\n",
      "longitude                       154466 non-null float64\n",
      "lotsizesquarefeet               136774 non-null float64\n",
      "propertycountylandusecode       154466 non-null object\n",
      "rawcensustractandblock          154466 non-null float64\n",
      "regionidcity                    151652 non-null float64\n",
      "regionidcounty                  154466 non-null object\n",
      "regionidzip                     154443 non-null float64\n",
      "roomcnt                         154466 non-null float64\n",
      "yearbuilt                       154466 non-null object\n",
      "structuretaxvaluedollarcnt      154355 non-null float64\n",
      "taxvaluedollarcnt               154466 non-null float64\n",
      "assessmentyear                  154466 non-null float64\n",
      "landtaxvaluedollarcnt           154466 non-null float64\n",
      "taxamount                       154459 non-null float64\n",
      "censustractandblock             154082 non-null float64\n",
      "propertylandusedesc             154466 non-null object\n",
      "dtypes: float64(20), int64(1), object(6)\n",
      "memory usage: 33.0+ MB\n"
     ]
    }
   ],
   "source": [
    "df.info()"
   ]
  },
  {
   "cell_type": "code",
   "execution_count": 14,
   "metadata": {},
   "outputs": [],
   "source": [
    "# replace the remaining nulls with blanks or zeros\n",
    "df = replace_nulls(df)"
   ]
  },
  {
   "cell_type": "code",
   "execution_count": 15,
   "metadata": {},
   "outputs": [
    {
     "data": {
      "text/plain": [
       "array(['Single Family Residential', 'Condominium'], dtype=object)"
      ]
     },
     "execution_count": 15,
     "metadata": {},
     "output_type": "execute_result"
    }
   ],
   "source": [
    "df.propertylandusedesc.unique()"
   ]
  },
  {
   "cell_type": "code",
   "execution_count": 16,
   "metadata": {},
   "outputs": [
    {
     "data": {
      "text/plain": [
       "(154466, 27)"
      ]
     },
     "execution_count": 16,
     "metadata": {},
     "output_type": "execute_result"
    }
   ],
   "source": [
    "df.shape"
   ]
  },
  {
   "cell_type": "code",
   "execution_count": null,
   "metadata": {},
   "outputs": [],
   "source": []
  }
 ],
 "metadata": {
  "kernelspec": {
   "display_name": "Python 3",
   "language": "python",
   "name": "python3"
  },
  "language_info": {
   "codemirror_mode": {
    "name": "ipython",
    "version": 3
   },
   "file_extension": ".py",
   "mimetype": "text/x-python",
   "name": "python",
   "nbconvert_exporter": "python",
   "pygments_lexer": "ipython3",
   "version": "3.7.1"
  }
 },
 "nbformat": 4,
 "nbformat_minor": 2
}
